{
 "cells": [
  {
   "cell_type": "markdown",
   "metadata": {
    "id": "eDSdZpfxJtKd"
   },
   "source": [
    "# 1. Objetivo\n",
    "\n",
    "La idea del proycto es realizar una clasificación de imágenes en tres clases -> Frutas, Vegetales y Paquetes."
   ]
  },
  {
   "cell_type": "markdown",
   "metadata": {
    "id": "kf_SkWcyB0YW"
   },
   "source": [
    "#### data set reference\n",
    "```\n",
    "  title={A Hierarchical Grocery Store Image Dataset with Visual and Semantic Labels},\n",
    "  author={Klasson, Marcus and Zhang, Cheng and Kjellstr{\\\"o}m, Hedvig},\n",
    "  booktitle={IEEE Winter Conference on Applications of Computer Vision (WACV)},\n",
    "  year={2019}\n",
    "```"
   ]
  },
  {
   "cell_type": "code",
   "execution_count": 1,
   "metadata": {
    "cellView": "both",
    "executionInfo": {
     "elapsed": 4208,
     "status": "ok",
     "timestamp": 1605275639068,
     "user": {
      "displayName": "juli leiva",
      "photoUrl": "https://lh3.googleusercontent.com/a-/AOh14GhBg9ETSwa_VSEu1VlKlCLppY1BPjCyccrDJFjoXfM=s64",
      "userId": "06227500798503670107"
     },
     "user_tz": 180
    },
    "id": "_JvVJdpidmBl"
   },
   "outputs": [],
   "source": [
    "from __future__ import absolute_import\n",
    "from __future__ import division\n",
    "from __future__ import print_function\n",
    "\n",
    "import collections\n",
    "import math\n",
    "import os\n",
    "import random\n",
    "from six.moves import urllib\n",
    "import io\n",
    "import shutil\n",
    "\n",
    "from IPython.display import clear_output, Image, display, HTML\n",
    "\n",
    "\n",
    "import tensorflow as tf\n",
    "\n",
    "import numpy as np\n",
    "import matplotlib.pyplot as plt\n",
    "import seaborn as sns\n",
    "import sklearn.metrics as sk_metrics\n",
    "import time\n",
    "from tensorflow.python.keras.preprocessing.image import ImageDataGenerator\n",
    "from keras import optimizers\n",
    "\n",
    "from keras.applications.inception_v3 import InceptionV3\n",
    "from keras.applications.resnet50 import preprocess_input, decode_predictions, ResNet50\n",
    "from keras.preprocessing import image\n",
    "from keras import regularizers\n",
    "from keras.models import Model\n",
    "from keras.layers import Dense, GlobalAveragePooling2D, BatchNormalization, Dropout, Flatten\n",
    "from keras import backend as K"
   ]
  },
  {
   "cell_type": "markdown",
   "metadata": {
    "id": "MWcbdolPpGf8"
   },
   "source": [
    "#### Algunas funciones útiles"
   ]
  },
  {
   "cell_type": "code",
   "execution_count": null,
   "metadata": {
    "cellView": "both",
    "id": "HvbR62Pph6Sk"
   },
   "outputs": [],
   "source": [
    "from sklearn.metrics import confusion_matrix\n",
    "def plot_confusion_matrix(y_true, y_pred, classes,\n",
    "                          normalize=False,\n",
    "                          title=None,\n",
    "                          cmap=plt.cm.Blues):\n",
    "    \"\"\"\n",
    "    This function prints and plots the confusion matrix.\n",
    "    Normalization can be applied by setting `normalize=True`.\n",
    "    \"\"\"\n",
    "    if not title:\n",
    "        if normalize:\n",
    "            title = 'Normalized confusion matrix'\n",
    "        else:\n",
    "            title = 'Confusion matrix, without normalization'\n",
    "\n",
    "    cm = confusion_matrix(y_true, y_pred)\n",
    "    classes = classes\n",
    "    if normalize:\n",
    "        cm = cm.astype('float') / cm.sum(axis=1)[:, np.newaxis]\n",
    "        print(\"Normalized confusion matrix\")\n",
    "    else:\n",
    "        print('Confusion matrix, without normalization')\n",
    "\n",
    "    print(cm)\n",
    "\n",
    "    fig, ax = plt.subplots()\n",
    "    im = ax.imshow(cm, interpolation='nearest', cmap=cmap)\n",
    "    ax.figure.colorbar(im, ax=ax)\n",
    "    ax.set(xticks=np.arange(cm.shape[1]),\n",
    "           yticks=np.arange(cm.shape[0]),\n",
    "           xticklabels=classes, yticklabels=classes,\n",
    "           title=title,\n",
    "           ylabel='True label',\n",
    "           xlabel='Predicted label')\n",
    "\n",
    "    plt.setp(ax.get_xticklabels(), rotation=45, ha=\"right\",\n",
    "             rotation_mode=\"anchor\")\n",
    "\n",
    "    fmt = '.2f' if normalize else 'd'\n",
    "    thresh = cm.max() / 2.\n",
    "    for i in range(cm.shape[0]):\n",
    "        for j in range(cm.shape[1]):\n",
    "            ax.text(j, i, format(cm[i, j], fmt),\n",
    "                    ha=\"center\", va=\"center\",\n",
    "                    color=\"white\" if cm[i, j] > thresh else \"black\")\n",
    "    fig.tight_layout()\n",
    "    return ax\n",
    "\n",
    "  \n"
   ]
  },
  {
   "cell_type": "markdown",
   "metadata": {
    "id": "hxI7IjZ759Yg"
   },
   "source": [
    "# 2. Descarga y Armado del dataset"
   ]
  },
  {
   "cell_type": "code",
   "execution_count": null,
   "metadata": {
    "colab": {
     "base_uri": "https://localhost:8080/"
    },
    "executionInfo": {
     "elapsed": 8686,
     "status": "ok",
     "timestamp": 1605227127839,
     "user": {
      "displayName": "Hector Oviedo",
      "photoUrl": "",
      "userId": "15443532843068866582"
     },
     "user_tz": 180
    },
    "id": "Xm-GSOl_sKDy",
    "outputId": "09ecf2b7-ed16-4e47-97ef-043b3b43ec28"
   },
   "outputs": [
    {
     "name": "stdout",
     "output_type": "stream",
     "text": [
      "Cloning into 'GroceryStoreDataset'...\n",
      "remote: Enumerating objects: 6553, done.\u001b[K\n",
      "remote: Total 6553 (delta 0), reused 0 (delta 0), pack-reused 6553\u001b[K\n",
      "Receiving objects: 100% (6553/6553), 116.24 MiB | 40.42 MiB/s, done.\n",
      "Resolving deltas: 100% (313/313), done.\n"
     ]
    }
   ],
   "source": [
    "!git clone https://github.com/marcusklasson/GroceryStoreDataset"
   ]
  },
  {
   "cell_type": "code",
   "execution_count": null,
   "metadata": {
    "id": "k9W6KsnAsslX"
   },
   "outputs": [],
   "source": [
    "## fijamos los paths\n",
    "train_path = './GroceryStoreDataset/dataset/train' \n",
    "validation_path = './GroceryStoreDataset/dataset/val'\n",
    "test_path = './GroceryStoreDataset/dataset/test'"
   ]
  },
  {
   "cell_type": "code",
   "execution_count": null,
   "metadata": {
    "colab": {
     "base_uri": "https://localhost:8080/"
    },
    "executionInfo": {
     "elapsed": 7906,
     "status": "ok",
     "timestamp": 1605227127842,
     "user": {
      "displayName": "Hector Oviedo",
      "photoUrl": "",
      "userId": "15443532843068866582"
     },
     "user_tz": 180
    },
    "id": "2I6qEyOGB0Yo",
    "outputId": "9a573288-9467-4d0a-c9e5-bd7d15f65548"
   },
   "outputs": [
    {
     "name": "stdout",
     "output_type": "stream",
     "text": [
      "Fruit  Packages  Vegetables\n"
     ]
    }
   ],
   "source": [
    "!ls GroceryStoreDataset/dataset/val"
   ]
  },
  {
   "cell_type": "markdown",
   "metadata": {
    "id": "KL0tx8JJ6Jr3"
   },
   "source": [
    "## 2.2 Preprocesamiento inicial de los datos¿\n",
    "Creamos algunos preprocesamientos sin ningun variación ni aumento de los datos. Este es el comienzo :)"
   ]
  },
  {
   "cell_type": "code",
   "execution_count": null,
   "metadata": {
    "colab": {
     "base_uri": "https://localhost:8080/"
    },
    "executionInfo": {
     "elapsed": 6979,
     "status": "ok",
     "timestamp": 1605227128266,
     "user": {
      "displayName": "Hector Oviedo",
      "photoUrl": "",
      "userId": "15443532843068866582"
     },
     "user_tz": 180
    },
    "id": "dMwUbPWH4Tyo",
    "outputId": "08eaf5a4-8839-4df0-b562-4b5e60a52a9b"
   },
   "outputs": [
    {
     "name": "stdout",
     "output_type": "stream",
     "text": [
      "Found 2640 images belonging to 3 classes.\n",
      "Found 296 images belonging to 3 classes.\n",
      "Found 2485 images belonging to 3 classes.\n"
     ]
    }
   ],
   "source": [
    "train_batches  = ImageDataGenerator().flow_from_directory(\n",
    "    train_path, target_size=(224,224), classes = ['Fruit', 'Packages', 'Vegetables'], batch_size = 32)\n",
    "\n",
    "validation_batches  = ImageDataGenerator().flow_from_directory(\n",
    "    validation_path, target_size=(224,224), classes = ['Fruit', 'Packages', 'Vegetables'], batch_size = 8)\n",
    "\n",
    "test_batches  = ImageDataGenerator().flow_from_directory(\n",
    "    test_path, target_size=(224,224), classes = ['Fruit', 'Packages', 'Vegetables'], batch_size = 32)"
   ]
  },
  {
   "cell_type": "code",
   "execution_count": null,
   "metadata": {
    "colab": {
     "base_uri": "https://localhost:8080/"
    },
    "executionInfo": {
     "elapsed": 732,
     "status": "ok",
     "timestamp": 1605227129351,
     "user": {
      "displayName": "Hector Oviedo",
      "photoUrl": "",
      "userId": "15443532843068866582"
     },
     "user_tz": 180
    },
    "id": "e6redeyP_8zM",
    "outputId": "1b084d91-89c7-4e2d-862d-e92b59fbeac4"
   },
   "outputs": [
    {
     "name": "stdout",
     "output_type": "stream",
     "text": [
      "data batch shape: (32, 224, 224, 3)\n",
      "labels batch shape: (32, 3)\n"
     ]
    }
   ],
   "source": [
    "#take a look at output of the generators\n",
    "\n",
    "for data_batch, labels_batch in train_batches:\n",
    "    print('data batch shape:', data_batch.shape)\n",
    "    print('labels batch shape:', labels_batch.shape)\n",
    "    break\n",
    "    "
   ]
  },
  {
   "cell_type": "markdown",
   "metadata": {
    "id": "HDUbhD1YMhd1"
   },
   "source": [
    "# 3. Crear un Modelo base Convolusional"
   ]
  },
  {
   "cell_type": "code",
   "execution_count": null,
   "metadata": {
    "colab": {
     "base_uri": "https://localhost:8080/"
    },
    "executionInfo": {
     "elapsed": 6114,
     "status": "ok",
     "timestamp": 1605227141789,
     "user": {
      "displayName": "Hector Oviedo",
      "photoUrl": "",
      "userId": "15443532843068866582"
     },
     "user_tz": 180
    },
    "id": "Bz-vexo6Mf3X",
    "outputId": "18f68cdf-51a5-4417-b59c-4ad95be476cb"
   },
   "outputs": [
    {
     "name": "stdout",
     "output_type": "stream",
     "text": [
      "Model: \"sequential\"\n",
      "_________________________________________________________________\n",
      "Layer (type)                 Output Shape              Param #   \n",
      "=================================================================\n",
      "conv2d (Conv2D)              (None, 222, 222, 32)      896       \n",
      "_________________________________________________________________\n",
      "max_pooling2d (MaxPooling2D) (None, 111, 111, 32)      0         \n",
      "_________________________________________________________________\n",
      "flatten (Flatten)            (None, 394272)            0         \n",
      "_________________________________________________________________\n",
      "dense (Dense)                (None, 96)                37850208  \n",
      "_________________________________________________________________\n",
      "dense_1 (Dense)              (None, 3)                 291       \n",
      "=================================================================\n",
      "Total params: 37,851,395\n",
      "Trainable params: 37,851,395\n",
      "Non-trainable params: 0\n",
      "_________________________________________________________________\n"
     ]
    }
   ],
   "source": [
    "from keras import layers\n",
    "from keras import models\n",
    "\n",
    "\n",
    "model = models.Sequential()\n",
    "model.add(layers.Conv2D(32, (3, 3), activation='relu',\n",
    "                        input_shape=(224, 224, 3)))\n",
    "model.add(layers.MaxPooling2D((2, 2)))\n",
    "model.add(layers.Flatten())\n",
    "model.add(layers.Dense(96, activation='relu'))\n",
    "model.add(layers.Dense(3, activation='softmax'))\n",
    "model.summary()"
   ]
  },
  {
   "cell_type": "code",
   "execution_count": null,
   "metadata": {
    "colab": {
     "base_uri": "https://localhost:8080/"
    },
    "executionInfo": {
     "elapsed": 60867,
     "status": "ok",
     "timestamp": 1605227197055,
     "user": {
      "displayName": "Hector Oviedo",
      "photoUrl": "",
      "userId": "15443532843068866582"
     },
     "user_tz": 180
    },
    "id": "iaolHAf5NxRS",
    "outputId": "47214a3b-12c1-47a6-87f3-8a1c002a4eec"
   },
   "outputs": [
    {
     "name": "stdout",
     "output_type": "stream",
     "text": [
      "Epoch 1/5\n",
      " 1/82 [..............................] - ETA: 0s - loss: 54.1104 - acc: 0.4688WARNING:tensorflow:Callbacks method `on_train_batch_end` is slow compared to the batch time (batch time: 0.0150s vs `on_train_batch_end` time: 0.0274s). Check your callbacks.\n",
      "83/82 [==============================] - 9s 114ms/step - loss: 358.6493 - acc: 0.5114 - val_loss: 285.1473 - val_acc: 0.5203\n",
      "Epoch 2/5\n",
      "83/82 [==============================] - 9s 114ms/step - loss: 125.9946 - acc: 0.6326 - val_loss: 63.4967 - val_acc: 0.5642\n",
      "Epoch 3/5\n",
      "83/82 [==============================] - 9s 113ms/step - loss: 81.5826 - acc: 0.6754 - val_loss: 64.9754 - val_acc: 0.6216\n",
      "Epoch 4/5\n",
      "83/82 [==============================] - 9s 114ms/step - loss: 45.5042 - acc: 0.7288 - val_loss: 60.6064 - val_acc: 0.5946\n",
      "Epoch 5/5\n",
      "83/82 [==============================] - 9s 113ms/step - loss: 21.2221 - acc: 0.7780 - val_loss: 36.1126 - val_acc: 0.5541\n"
     ]
    }
   ],
   "source": [
    "train_filenames = train_batches.filenames\n",
    "steps_train = len(train_filenames)/train_batches.batch_size\n",
    "\n",
    "validation_filenames = validation_batches.filenames\n",
    "steps_valid = len(validation_filenames)/validation_batches.batch_size\n",
    "\n",
    "model.compile(loss='categorical_crossentropy',\n",
    "              optimizer=optimizers.RMSprop(lr=1e-4),\n",
    "              metrics=['acc'])\n",
    "fit_generator1 = model.fit(\n",
    "      train_batches,\n",
    "      steps_per_epoch=steps_train,\n",
    "      epochs=5,\n",
    "      validation_data=validation_batches,\n",
    "      validation_steps=steps_valid)"
   ]
  },
  {
   "cell_type": "code",
   "execution_count": null,
   "metadata": {
    "colab": {
     "base_uri": "https://localhost:8080/",
     "height": 545
    },
    "executionInfo": {
     "elapsed": 29998,
     "status": "ok",
     "timestamp": 1605227197346,
     "user": {
      "displayName": "Hector Oviedo",
      "photoUrl": "",
      "userId": "15443532843068866582"
     },
     "user_tz": 180
    },
    "id": "Y0xtfvl4s-DS",
    "outputId": "59f190b2-62b3-4c34-cc93-601336a0fe40"
   },
   "outputs": [
    {
     "data": {
      "image/png": "[encoded data removed]",
      "text/plain": [
       "<Figure size 432x288 with 1 Axes>"
      ]
     },
     "metadata": {
      "needs_background": "light",
      "tags": []
     },
     "output_type": "display_data"
    },
    {
     "data": {
      "image/png": "[encoded data removed]",
      "text/plain": [
       "<Figure size 432x288 with 1 Axes>"
      ]
     },
     "metadata": {
      "needs_background": "light",
      "tags": []
     },
     "output_type": "display_data"
    }
   ],
   "source": [
    "\n",
    "import matplotlib.pyplot as plt\n",
    "\n",
    "acc = fit_generator1.history['acc']\n",
    "val_acc = fit_generator1.history['val_acc']\n",
    "loss = fit_generator1.history['loss']\n",
    "val_loss = fit_generator1.history['val_loss']\n",
    "\n",
    "epochs = range(len(acc))\n",
    "\n",
    "plt.plot(epochs, acc, 'bo', label='Training acc')\n",
    "plt.plot(epochs, val_acc, 'b', label='Validation acc', color = 'r')\n",
    "plt.title('Training and validation accuracy')\n",
    "plt.legend()\n",
    "\n",
    "plt.figure()\n",
    "\n",
    "plt.plot(epochs, loss, 'bo', label='Training loss')\n",
    "plt.plot(epochs, val_loss, 'b', label='Validation loss', color = 'r')\n",
    "plt.title('Training and validation loss')\n",
    "plt.legend()\n",
    "\n",
    "plt.show()"
   ]
  },
  {
   "cell_type": "markdown",
   "metadata": {
    "id": "T9fmUrte83oZ"
   },
   "source": [
    "# Modelo Complejo\n"
   ]
  },
  {
   "cell_type": "markdown",
   "metadata": {
    "id": "RSc8lNdQB0Y7"
   },
   "source": [
    "### 3.1.1 Experimentamos con el modelo :\n",
    " \n",
    " Capa convolusional con 32 neuronas\n",
    " \n",
    " Capa Pooling\n",
    " \n",
    " Capa Convolusional con 64 neuronas\n",
    " \n",
    " Capa Pooling\n",
    " \n",
    " Capa Convolusional con 128 neuronas\n",
    " \n",
    " Capa Pooling\n",
    " \n",
    " Capa Convolusional con 128 neuronas\n",
    " \n",
    " Capa Pooling\n",
    " \n",
    " Capa de Aplanamiento\n",
    " \n",
    " Capa Densa con 512 neuronas\n",
    " \n",
    " Capa de clasificación con la categorías.\n",
    " \n",
    " ** y obviamente probar con más épocas ** \n",
    " \n",
    " Se recomienda entrenar con gpu (o en colab), aunque puede andar sin, aunque bastante lento"
   ]
  },
  {
   "cell_type": "code",
   "execution_count": null,
   "metadata": {
    "colab": {
     "base_uri": "https://localhost:8080/"
    },
    "executionInfo": {
     "elapsed": 1885,
     "status": "ok",
     "timestamp": 1604943532696,
     "user": {
      "displayName": "Juan Finello",
      "photoUrl": "https://lh3.googleusercontent.com/a-/AOh14GhkEe8FcNn5ElS7591yV3nI_9MC8Yuo4NSdmGfowQ=s64",
      "userId": "01899113154645049238"
     },
     "user_tz": 180
    },
    "id": "wcd9gVThB0Y8",
    "outputId": "3ce10710-ab8a-476f-94b1-5433f73d9a8e"
   },
   "outputs": [
    {
     "name": "stdout",
     "output_type": "stream",
     "text": [
      "Model: \"sequential_1\"\n",
      "_________________________________________________________________\n",
      "Layer (type)                 Output Shape              Param #   \n",
      "=================================================================\n",
      "conv2d_1 (Conv2D)            (None, 222, 222, 32)      896       \n",
      "_________________________________________________________________\n",
      "max_pooling2d_1 (MaxPooling2 (None, 111, 111, 32)      0         \n",
      "_________________________________________________________________\n",
      "conv2d_2 (Conv2D)            (None, 109, 109, 64)      18496     \n",
      "_________________________________________________________________\n",
      "max_pooling2d_2 (MaxPooling2 (None, 54, 54, 64)        0         \n",
      "_________________________________________________________________\n",
      "conv2d_3 (Conv2D)            (None, 52, 52, 128)       73856     \n",
      "_________________________________________________________________\n",
      "max_pooling2d_3 (MaxPooling2 (None, 26, 26, 128)       0         \n",
      "_________________________________________________________________\n",
      "conv2d_4 (Conv2D)            (None, 24, 24, 128)       147584    \n",
      "_________________________________________________________________\n",
      "max_pooling2d_4 (MaxPooling2 (None, 12, 12, 128)       0         \n",
      "_________________________________________________________________\n",
      "flatten_1 (Flatten)          (None, 18432)             0         \n",
      "_________________________________________________________________\n",
      "dense_2 (Dense)              (None, 512)               9437696   \n",
      "_________________________________________________________________\n",
      "dense_3 (Dense)              (None, 3)                 1539      \n",
      "=================================================================\n",
      "Total params: 9,680,067\n",
      "Trainable params: 9,680,067\n",
      "Non-trainable params: 0\n",
      "_________________________________________________________________\n"
     ]
    }
   ],
   "source": [
    "#elejimos un modelo secuencial\n",
    "model_2 = models.Sequential()\n",
    "# agregamos capa convolucional de 32 neuronas y capa de pooling\n",
    "model_2.add(layers.Conv2D(32, (3, 3), activation='relu', input_shape=(224, 224, 3)))\n",
    "model_2.add(layers.MaxPooling2D((2, 2)))\n",
    "\n",
    "# agregamos capa convolucional de 64 neuronas y capa de pooling\n",
    "model_2.add(layers.Conv2D(64, (3, 3), activation='relu'))\n",
    "model_2.add(layers.MaxPooling2D((2, 2)))\n",
    "\n",
    "# agregamos capa convolucional de 128 neuronas y capa de pooling\n",
    "model_2.add(layers.Conv2D(128, (3, 3), activation='relu'))\n",
    "model_2.add(layers.MaxPooling2D((2, 2)))\n",
    "\n",
    "# agregamos capa convolucional de 128 neuronas y capa de pooling\n",
    "model_2.add(layers.Conv2D(128, (3, 3), activation='relu'))\n",
    "model_2.add(layers.MaxPooling2D((2, 2)))\n",
    "\n",
    "#agregamos modelo de aplanamiento\n",
    "model_2.add(layers.Flatten())\n",
    "\n",
    "# agregamos capa convolucional de 512 neuronas y capa de pooling\n",
    "model_2.add(layers.Dense(512, activation='relu'))\n",
    "model_2.add(layers.Dense(3, activation='softmax'))\n",
    "model_2.summary()"
   ]
  },
  {
   "cell_type": "code",
   "execution_count": null,
   "metadata": {
    "colab": {
     "base_uri": "https://localhost:8080/"
    },
    "executionInfo": {
     "elapsed": 1168096,
     "status": "ok",
     "timestamp": 1604327834273,
     "user": {
      "displayName": "Juan Finello",
      "photoUrl": "https://lh3.googleusercontent.com/a-/AOh14GhkEe8FcNn5ElS7591yV3nI_9MC8Yuo4NSdmGfowQ=s64",
      "userId": "01899113154645049238"
     },
     "user_tz": 180
    },
    "id": "IavnJtXjKQEZ",
    "outputId": "74ac114e-7784-4bef-9383-2e02f0881e93"
   },
   "outputs": [
    {
     "name": "stdout",
     "output_type": "stream",
     "text": [
      "Epoch 1/100\n",
      " 2/82 [..............................] - ETA: 4s - loss: 97.7782 - acc: 0.4375WARNING:tensorflow:Callbacks method `on_train_batch_end` is slow compared to the batch time (batch time: 0.0391s vs `on_train_batch_end` time: 0.0651s). Check your callbacks.\n",
      "83/82 [==============================] - 12s 145ms/step - loss: 5.8877 - acc: 0.6087 - val_loss: 0.8971 - val_acc: 0.6520\n",
      "Epoch 2/100\n",
      "83/82 [==============================] - 11s 138ms/step - loss: 0.5651 - acc: 0.7769 - val_loss: 0.8420 - val_acc: 0.6453\n",
      "Epoch 3/100\n",
      "83/82 [==============================] - 12s 139ms/step - loss: 0.2949 - acc: 0.8917 - val_loss: 1.3779 - val_acc: 0.5878\n",
      "Epoch 4/100\n",
      "83/82 [==============================] - 11s 138ms/step - loss: 0.2025 - acc: 0.9318 - val_loss: 1.0230 - val_acc: 0.6926\n",
      "Epoch 5/100\n",
      "83/82 [==============================] - 11s 138ms/step - loss: 0.1605 - acc: 0.9655 - val_loss: 1.3188 - val_acc: 0.6419\n",
      "Epoch 6/100\n",
      "83/82 [==============================] - 11s 138ms/step - loss: 0.1574 - acc: 0.9670 - val_loss: 1.4353 - val_acc: 0.6588\n",
      "Epoch 7/100\n",
      "83/82 [==============================] - 11s 138ms/step - loss: 0.1146 - acc: 0.9742 - val_loss: 2.3143 - val_acc: 0.6351\n",
      "Epoch 8/100\n",
      "83/82 [==============================] - 11s 138ms/step - loss: 0.0964 - acc: 0.9784 - val_loss: 1.7884 - val_acc: 0.6520\n",
      "Epoch 9/100\n",
      "83/82 [==============================] - 11s 138ms/step - loss: 0.1186 - acc: 0.9856 - val_loss: 1.8127 - val_acc: 0.6689\n",
      "Epoch 10/100\n",
      "83/82 [==============================] - 11s 138ms/step - loss: 0.1251 - acc: 0.9735 - val_loss: 2.0822 - val_acc: 0.6588\n",
      "Epoch 11/100\n",
      "83/82 [==============================] - 11s 138ms/step - loss: 0.0312 - acc: 0.9913 - val_loss: 2.1489 - val_acc: 0.6554\n",
      "Epoch 12/100\n",
      "83/82 [==============================] - 11s 138ms/step - loss: 0.1439 - acc: 0.9826 - val_loss: 1.9832 - val_acc: 0.6520\n",
      "Epoch 13/100\n",
      "83/82 [==============================] - 11s 138ms/step - loss: 0.0771 - acc: 0.9894 - val_loss: 2.3061 - val_acc: 0.6385\n",
      "Epoch 14/100\n",
      "83/82 [==============================] - 11s 137ms/step - loss: 0.1313 - acc: 0.9867 - val_loss: 2.2134 - val_acc: 0.6351\n",
      "Epoch 15/100\n",
      "83/82 [==============================] - 11s 138ms/step - loss: 0.1435 - acc: 0.9875 - val_loss: 3.3434 - val_acc: 0.5980\n",
      "Epoch 16/100\n",
      "83/82 [==============================] - 12s 139ms/step - loss: 0.0729 - acc: 0.9913 - val_loss: 2.6142 - val_acc: 0.6554\n",
      "Epoch 17/100\n",
      "83/82 [==============================] - 12s 139ms/step - loss: 0.2085 - acc: 0.9864 - val_loss: 2.5761 - val_acc: 0.6318\n",
      "Epoch 18/100\n",
      "83/82 [==============================] - 11s 138ms/step - loss: 0.1069 - acc: 0.9871 - val_loss: 1.9742 - val_acc: 0.6689\n",
      "Epoch 19/100\n",
      "83/82 [==============================] - 11s 138ms/step - loss: 2.4610e-04 - acc: 1.0000 - val_loss: 2.5111 - val_acc: 0.6520\n",
      "Epoch 20/100\n",
      "83/82 [==============================] - 11s 138ms/step - loss: 0.2164 - acc: 0.9856 - val_loss: 2.2274 - val_acc: 0.6791\n",
      "Epoch 21/100\n",
      "83/82 [==============================] - 11s 138ms/step - loss: 1.1113e-04 - acc: 1.0000 - val_loss: 2.8078 - val_acc: 0.6757\n",
      "Epoch 22/100\n",
      "83/82 [==============================] - 12s 140ms/step - loss: 0.1621 - acc: 0.9875 - val_loss: 2.8548 - val_acc: 0.6419\n",
      "Epoch 23/100\n",
      "83/82 [==============================] - 11s 138ms/step - loss: 0.1350 - acc: 0.9883 - val_loss: 2.2601 - val_acc: 0.6723\n",
      "Epoch 24/100\n",
      "83/82 [==============================] - 11s 138ms/step - loss: 1.1722e-04 - acc: 1.0000 - val_loss: 2.6287 - val_acc: 0.7027\n",
      "Epoch 25/100\n",
      "83/82 [==============================] - 11s 138ms/step - loss: 0.2790 - acc: 0.9848 - val_loss: 3.1355 - val_acc: 0.6182\n",
      "Epoch 26/100\n",
      "83/82 [==============================] - 12s 139ms/step - loss: 2.9392e-04 - acc: 1.0000 - val_loss: 2.8437 - val_acc: 0.6858\n",
      "Epoch 27/100\n",
      "83/82 [==============================] - 11s 138ms/step - loss: 0.1629 - acc: 0.9898 - val_loss: 2.7083 - val_acc: 0.6419\n",
      "Epoch 28/100\n",
      "83/82 [==============================] - 11s 138ms/step - loss: 0.0451 - acc: 0.9886 - val_loss: 3.1670 - val_acc: 0.6453\n",
      "Epoch 29/100\n",
      "83/82 [==============================] - 11s 138ms/step - loss: 0.1581 - acc: 0.9890 - val_loss: 3.0071 - val_acc: 0.6689\n",
      "Epoch 30/100\n",
      "83/82 [==============================] - 12s 139ms/step - loss: 0.1406 - acc: 0.9875 - val_loss: 2.6728 - val_acc: 0.6689\n",
      "Epoch 31/100\n",
      "83/82 [==============================] - 11s 138ms/step - loss: 1.6994e-04 - acc: 1.0000 - val_loss: 3.8957 - val_acc: 0.6824\n",
      "Epoch 32/100\n",
      "83/82 [==============================] - 11s 138ms/step - loss: 0.1361 - acc: 0.9924 - val_loss: 2.5353 - val_acc: 0.6791\n",
      "Epoch 33/100\n",
      "83/82 [==============================] - 12s 139ms/step - loss: 0.1548 - acc: 0.9902 - val_loss: 2.4970 - val_acc: 0.6824\n",
      "Epoch 34/100\n",
      "83/82 [==============================] - 11s 138ms/step - loss: 3.8701e-04 - acc: 1.0000 - val_loss: 2.8995 - val_acc: 0.6655\n",
      "Epoch 35/100\n",
      "83/82 [==============================] - 12s 139ms/step - loss: 0.1968 - acc: 0.9883 - val_loss: 2.9271 - val_acc: 0.6723\n",
      "Epoch 36/100\n",
      "83/82 [==============================] - 12s 139ms/step - loss: 0.0441 - acc: 0.9943 - val_loss: 3.1533 - val_acc: 0.6655\n",
      "Epoch 37/100\n",
      "83/82 [==============================] - 11s 138ms/step - loss: 0.0362 - acc: 0.9958 - val_loss: 12.1125 - val_acc: 0.4831\n",
      "Epoch 38/100\n",
      "83/82 [==============================] - 12s 139ms/step - loss: 0.1146 - acc: 0.9913 - val_loss: 2.9412 - val_acc: 0.6858\n",
      "Epoch 39/100\n",
      "83/82 [==============================] - 12s 139ms/step - loss: 0.1047 - acc: 0.9875 - val_loss: 3.9637 - val_acc: 0.6588\n",
      "Epoch 40/100\n",
      "83/82 [==============================] - 11s 138ms/step - loss: 0.0545 - acc: 0.9902 - val_loss: 2.7982 - val_acc: 0.6689\n",
      "Epoch 41/100\n",
      "83/82 [==============================] - 12s 139ms/step - loss: 3.6603e-05 - acc: 1.0000 - val_loss: 3.3506 - val_acc: 0.6723\n",
      "Epoch 42/100\n",
      "83/82 [==============================] - 12s 139ms/step - loss: 0.1683 - acc: 0.9902 - val_loss: 3.8426 - val_acc: 0.6486\n",
      "Epoch 43/100\n",
      "83/82 [==============================] - 12s 139ms/step - loss: 0.0064 - acc: 0.9981 - val_loss: 4.0912 - val_acc: 0.6385\n",
      "Epoch 44/100\n",
      "83/82 [==============================] - 12s 139ms/step - loss: 2.2963e-06 - acc: 1.0000 - val_loss: 4.1848 - val_acc: 0.6520\n",
      "Epoch 45/100\n",
      "83/82 [==============================] - 12s 140ms/step - loss: 0.3930 - acc: 0.9890 - val_loss: 4.1733 - val_acc: 0.6453\n",
      "Epoch 46/100\n",
      "83/82 [==============================] - 12s 139ms/step - loss: 0.0013 - acc: 0.9992 - val_loss: 4.3188 - val_acc: 0.6554\n",
      "Epoch 47/100\n",
      "83/82 [==============================] - 11s 139ms/step - loss: 1.2265e-06 - acc: 1.0000 - val_loss: 4.5735 - val_acc: 0.6655\n",
      "Epoch 48/100\n",
      "83/82 [==============================] - 11s 137ms/step - loss: 0.2355 - acc: 0.9890 - val_loss: 3.5000 - val_acc: 0.6419\n",
      "Epoch 49/100\n",
      "83/82 [==============================] - 12s 141ms/step - loss: 0.0541 - acc: 0.9913 - val_loss: 4.5071 - val_acc: 0.5135\n",
      "Epoch 50/100\n",
      "83/82 [==============================] - 11s 138ms/step - loss: 0.0265 - acc: 0.9943 - val_loss: 3.8622 - val_acc: 0.6250\n",
      "Epoch 51/100\n",
      "83/82 [==============================] - 12s 139ms/step - loss: 1.0764e-05 - acc: 1.0000 - val_loss: 4.0773 - val_acc: 0.6419\n",
      "Epoch 52/100\n",
      "83/82 [==============================] - 11s 139ms/step - loss: 0.0856 - acc: 0.9924 - val_loss: 3.7349 - val_acc: 0.6486\n",
      "Epoch 53/100\n",
      "83/82 [==============================] - 12s 139ms/step - loss: 2.8822e-05 - acc: 1.0000 - val_loss: 4.0243 - val_acc: 0.6419\n",
      "Epoch 54/100\n",
      "83/82 [==============================] - 12s 139ms/step - loss: 3.2994e-07 - acc: 1.0000 - val_loss: 4.3150 - val_acc: 0.6655\n",
      "Epoch 55/100\n",
      "83/82 [==============================] - 12s 139ms/step - loss: 1.3727e-08 - acc: 1.0000 - val_loss: 5.1840 - val_acc: 0.6655\n",
      "Epoch 56/100\n",
      "83/82 [==============================] - 12s 140ms/step - loss: 0.1876 - acc: 0.9826 - val_loss: 6.2755 - val_acc: 0.5270\n",
      "Epoch 57/100\n",
      "83/82 [==============================] - 11s 138ms/step - loss: 0.0025 - acc: 0.9989 - val_loss: 4.5854 - val_acc: 0.6250\n",
      "Epoch 58/100\n",
      "83/82 [==============================] - 12s 139ms/step - loss: 0.0515 - acc: 0.9932 - val_loss: 3.8839 - val_acc: 0.6453\n",
      "Epoch 59/100\n",
      "83/82 [==============================] - 12s 139ms/step - loss: 2.2237e-04 - acc: 1.0000 - val_loss: 4.4060 - val_acc: 0.6588\n",
      "Epoch 60/100\n",
      "83/82 [==============================] - 11s 138ms/step - loss: 5.3262e-07 - acc: 1.0000 - val_loss: 4.8451 - val_acc: 0.6419\n",
      "Epoch 61/100\n",
      "83/82 [==============================] - 11s 138ms/step - loss: 1.3095e-08 - acc: 1.0000 - val_loss: 4.8611 - val_acc: 0.6622\n",
      "Epoch 62/100\n",
      "83/82 [==============================] - 11s 138ms/step - loss: 0.2792 - acc: 0.9883 - val_loss: 5.0455 - val_acc: 0.6554\n",
      "Epoch 63/100\n",
      "83/82 [==============================] - 11s 138ms/step - loss: 0.1030 - acc: 0.9909 - val_loss: 4.7406 - val_acc: 0.6824\n",
      "Epoch 64/100\n",
      "83/82 [==============================] - 11s 138ms/step - loss: 0.0332 - acc: 0.9973 - val_loss: 5.4357 - val_acc: 0.6588\n",
      "Epoch 65/100\n",
      "83/82 [==============================] - 12s 139ms/step - loss: 0.0512 - acc: 0.9902 - val_loss: 3.4473 - val_acc: 0.6959\n",
      "Epoch 66/100\n",
      "83/82 [==============================] - 11s 138ms/step - loss: 2.3406e-05 - acc: 1.0000 - val_loss: 3.7129 - val_acc: 0.6892\n",
      "Epoch 67/100\n",
      "83/82 [==============================] - 12s 139ms/step - loss: 3.4100e-07 - acc: 1.0000 - val_loss: 4.8631 - val_acc: 0.5811\n",
      "Epoch 68/100\n",
      "83/82 [==============================] - 11s 139ms/step - loss: 0.1239 - acc: 0.9879 - val_loss: 5.0085 - val_acc: 0.5608\n",
      "Epoch 69/100\n",
      "83/82 [==============================] - 12s 140ms/step - loss: 0.1471 - acc: 0.9883 - val_loss: 3.6617 - val_acc: 0.6892\n",
      "Epoch 70/100\n",
      "83/82 [==============================] - 12s 139ms/step - loss: 1.4055e-04 - acc: 1.0000 - val_loss: 3.9007 - val_acc: 0.6824\n",
      "Epoch 71/100\n",
      "83/82 [==============================] - 12s 139ms/step - loss: 1.3651e-06 - acc: 1.0000 - val_loss: 4.1907 - val_acc: 0.6858\n",
      "Epoch 72/100\n",
      "83/82 [==============================] - 11s 138ms/step - loss: 2.1087e-08 - acc: 1.0000 - val_loss: 4.7868 - val_acc: 0.6689\n",
      "Epoch 73/100\n",
      "83/82 [==============================] - 12s 139ms/step - loss: 0.0362 - acc: 0.9951 - val_loss: 4.5422 - val_acc: 0.6284\n",
      "Epoch 74/100\n",
      "83/82 [==============================] - 12s 139ms/step - loss: 7.3377e-06 - acc: 1.0000 - val_loss: 4.4992 - val_acc: 0.6723\n",
      "Epoch 75/100\n",
      "83/82 [==============================] - 12s 140ms/step - loss: 1.2359e-07 - acc: 1.0000 - val_loss: 4.7585 - val_acc: 0.6689\n",
      "Epoch 76/100\n",
      "83/82 [==============================] - 12s 140ms/step - loss: 1.1831e-08 - acc: 1.0000 - val_loss: 5.0366 - val_acc: 0.6791\n",
      "Epoch 77/100\n",
      "83/82 [==============================] - 11s 138ms/step - loss: 8.5795e-10 - acc: 1.0000 - val_loss: 4.9597 - val_acc: 0.6824\n",
      "Epoch 78/100\n",
      "83/82 [==============================] - 12s 139ms/step - loss: 1.3547e-10 - acc: 1.0000 - val_loss: 5.0376 - val_acc: 0.6959\n",
      "Epoch 79/100\n",
      "83/82 [==============================] - 12s 139ms/step - loss: 9.0310e-11 - acc: 1.0000 - val_loss: 5.2027 - val_acc: 0.6858\n",
      "Epoch 80/100\n",
      "83/82 [==============================] - 12s 139ms/step - loss: 4.5155e-11 - acc: 1.0000 - val_loss: 5.1714 - val_acc: 0.6993\n",
      "Epoch 81/100\n",
      "83/82 [==============================] - 12s 139ms/step - loss: 0.0000e+00 - acc: 1.0000 - val_loss: 5.1335 - val_acc: 0.6993\n",
      "Epoch 82/100\n",
      "83/82 [==============================] - 12s 139ms/step - loss: 0.0000e+00 - acc: 1.0000 - val_loss: 5.1057 - val_acc: 0.6993\n",
      "Epoch 83/100\n",
      "83/82 [==============================] - 11s 138ms/step - loss: 0.0000e+00 - acc: 1.0000 - val_loss: 5.1448 - val_acc: 0.6959\n",
      "Epoch 84/100\n",
      "83/82 [==============================] - 11s 138ms/step - loss: 0.0000e+00 - acc: 1.0000 - val_loss: 5.0999 - val_acc: 0.6926\n",
      "Epoch 85/100\n",
      "83/82 [==============================] - 11s 138ms/step - loss: 0.0000e+00 - acc: 1.0000 - val_loss: 5.1140 - val_acc: 0.6959\n",
      "Epoch 86/100\n",
      "83/82 [==============================] - 11s 138ms/step - loss: 0.0000e+00 - acc: 1.0000 - val_loss: 5.1027 - val_acc: 0.6959\n",
      "Epoch 87/100\n",
      "83/82 [==============================] - 11s 138ms/step - loss: 0.0000e+00 - acc: 1.0000 - val_loss: 5.1175 - val_acc: 0.6959\n",
      "Epoch 88/100\n",
      "83/82 [==============================] - 11s 138ms/step - loss: 0.0000e+00 - acc: 1.0000 - val_loss: 5.1601 - val_acc: 0.6959\n",
      "Epoch 89/100\n",
      "83/82 [==============================] - 11s 138ms/step - loss: 0.0000e+00 - acc: 1.0000 - val_loss: 5.1566 - val_acc: 0.6959\n",
      "Epoch 90/100\n",
      "83/82 [==============================] - 11s 138ms/step - loss: 0.0000e+00 - acc: 1.0000 - val_loss: 5.1507 - val_acc: 0.6959\n",
      "Epoch 91/100\n",
      "83/82 [==============================] - 12s 139ms/step - loss: 0.0000e+00 - acc: 1.0000 - val_loss: 5.1387 - val_acc: 0.6959\n",
      "Epoch 92/100\n",
      "83/82 [==============================] - 12s 139ms/step - loss: 0.0000e+00 - acc: 1.0000 - val_loss: 5.1687 - val_acc: 0.6959\n",
      "Epoch 93/100\n",
      "83/82 [==============================] - 12s 139ms/step - loss: 0.0000e+00 - acc: 1.0000 - val_loss: 5.1732 - val_acc: 0.6959\n",
      "Epoch 94/100\n",
      "83/82 [==============================] - 11s 139ms/step - loss: 0.0000e+00 - acc: 1.0000 - val_loss: 5.2043 - val_acc: 0.6959\n",
      "Epoch 95/100\n",
      "83/82 [==============================] - 12s 139ms/step - loss: 0.0000e+00 - acc: 1.0000 - val_loss: 5.2140 - val_acc: 0.6959\n",
      "Epoch 96/100\n",
      "83/82 [==============================] - 12s 139ms/step - loss: 0.0000e+00 - acc: 1.0000 - val_loss: 5.2051 - val_acc: 0.6959\n",
      "Epoch 97/100\n",
      "83/82 [==============================] - 11s 138ms/step - loss: 0.0000e+00 - acc: 1.0000 - val_loss: 5.2440 - val_acc: 0.6926\n",
      "Epoch 98/100\n",
      "83/82 [==============================] - 11s 138ms/step - loss: 0.0000e+00 - acc: 1.0000 - val_loss: 5.2023 - val_acc: 0.6926\n",
      "Epoch 99/100\n",
      "83/82 [==============================] - 11s 138ms/step - loss: 0.0000e+00 - acc: 1.0000 - val_loss: 5.2306 - val_acc: 0.6926\n",
      "Epoch 100/100\n",
      "83/82 [==============================] - 12s 139ms/step - loss: 0.0000e+00 - acc: 1.0000 - val_loss: 5.2308 - val_acc: 0.6892\n"
     ]
    }
   ],
   "source": [
    "\n",
    "model_2.compile(loss='categorical_crossentropy',\n",
    "              optimizer=optimizers.RMSprop(lr=1e-4),\n",
    "              metrics=['acc'])\n",
    "fit_generator2 = model_2.fit(\n",
    "      train_batches,\n",
    "      steps_per_epoch=steps_train,\n",
    "      epochs=100,\n",
    "      validation_data=validation_batches,\n",
    "      validation_steps=steps_valid)"
   ]
  },
  {
   "cell_type": "code",
   "execution_count": null,
   "metadata": {
    "colab": {
     "base_uri": "https://localhost:8080/",
     "height": 545
    },
    "executionInfo": {
     "elapsed": 1514,
     "status": "ok",
     "timestamp": 1604327977207,
     "user": {
      "displayName": "Juan Finello",
      "photoUrl": "https://lh3.googleusercontent.com/a-/AOh14GhkEe8FcNn5ElS7591yV3nI_9MC8Yuo4NSdmGfowQ=s64",
      "userId": "01899113154645049238"
     },
     "user_tz": 180
    },
    "id": "k51gNuyQOQ-G",
    "outputId": "27c7bb12-7213-4299-f571-4c132c3f23a2"
   },
   "outputs": [
    {
     "data": {
      "image/png": "[encoded data removed]",
      "text/plain": [
       "<Figure size 432x288 with 1 Axes>"
      ]
     },
     "metadata": {
      "needs_background": "light",
      "tags": []
     },
     "output_type": "display_data"
    },
    {
     "data": {
      "image/png": "[encoded data removed]",
      "text/plain": [
       "<Figure size 432x288 with 1 Axes>"
      ]
     },
     "metadata": {
      "needs_background": "light",
      "tags": []
     },
     "output_type": "display_data"
    }
   ],
   "source": [
    "\n",
    "acc2 = fit_generator2.history['acc']\n",
    "val_acc2 = fit_generator2.history['val_acc']\n",
    "loss2 = fit_generator2.history['loss']\n",
    "val_loss2 = fit_generator2.history['val_loss']\n",
    "\n",
    "epochs2 = range(len(acc2))\n",
    "\n",
    "plt.plot(epochs2, acc2, 'bo', label='Training acc')\n",
    "plt.plot(epochs2, val_acc2, 'b', label='Validation acc', color = 'r')\n",
    "plt.title('Training and validation accuracy')\n",
    "plt.legend()\n",
    "\n",
    "plt.figure()\n",
    "\n",
    "plt.plot(epochs2, loss2, 'bo', label='Training loss')\n",
    "plt.plot(epochs2, val_loss2, 'b', label='Validation loss', color = 'r')\n",
    "plt.title('Training and validation loss')\n",
    "plt.legend()\n",
    "\n",
    "plt.show()"
   ]
  },
  {
   "cell_type": "markdown",
   "metadata": {
    "id": "-3KydeGZ9jWe"
   },
   "source": [
    "# aumento de datos"
   ]
  },
  {
   "cell_type": "markdown",
   "metadata": {
    "id": "_mmQfoQLYGHp"
   },
   "source": [
    "### 3.2 Hacer Aumento de datos\n",
    "\n",
    "Al modelo anterior le hacemos data augmentation \n",
    "https://www.pyimagesearch.com/2019/07/08/keras-imagedatagenerator-and-data-augmentation/"
   ]
  },
  {
   "cell_type": "code",
   "execution_count": null,
   "metadata": {
    "id": "zkxpg-uZWr0j"
   },
   "outputs": [],
   "source": [
    "from keras.preprocessing.image import ImageDataGenerator"
   ]
  },
  {
   "cell_type": "code",
   "execution_count": null,
   "metadata": {
    "colab": {
     "base_uri": "https://localhost:8080/",
     "height": 442
    },
    "executionInfo": {
     "elapsed": 13980,
     "status": "error",
     "timestamp": 1604943556249,
     "user": {
      "displayName": "Juan Finello",
      "photoUrl": "https://lh3.googleusercontent.com/a-/AOh14GhkEe8FcNn5ElS7591yV3nI_9MC8Yuo4NSdmGfowQ=s64",
      "userId": "01899113154645049238"
     },
     "user_tz": 180
    },
    "id": "mmST-1PAB0Y_",
    "outputId": "89b637a7-ffaa-4cab-d2a7-3494633c4f2c"
   },
   "outputs": [
    {
     "name": "stdout",
     "output_type": "stream",
     "text": [
      "Found 2640 images belonging to 3 classes.\n",
      "Found 296 images belonging to 3 classes.\n",
      "Epoch 1/30\n",
      " 9/52 [====>.........................] - ETA: 20s - loss: 1.0777 - acc: 0.4222"
     ]
    },
    {
     "ename": "KeyboardInterrupt",
     "evalue": "ignored",
     "output_type": "error",
     "traceback": [
      "\u001b[0;31m---------------------------------------------------------------------------\u001b[0m",
      "\u001b[0;31mKeyboardInterrupt\u001b[0m                         Traceback (most recent call last)",
      "\u001b[0;32m<ipython-input-21-362999e975db>\u001b[0m in \u001b[0;36m<module>\u001b[0;34m()\u001b[0m\n\u001b[1;32m     36\u001b[0m         \u001b[0mepochs\u001b[0m\u001b[0;34m=\u001b[0m\u001b[0;36m30\u001b[0m\u001b[0;34m,\u001b[0m\u001b[0;34m\u001b[0m\u001b[0;34m\u001b[0m\u001b[0m\n\u001b[1;32m     37\u001b[0m         \u001b[0mvalidation_data\u001b[0m\u001b[0;34m=\u001b[0m\u001b[0mvalidation_generator\u001b[0m\u001b[0;34m,\u001b[0m\u001b[0;34m\u001b[0m\u001b[0;34m\u001b[0m\u001b[0m\n\u001b[0;32m---> 38\u001b[0;31m         validation_steps=steps_valid)\n\u001b[0m\u001b[1;32m     39\u001b[0m \u001b[0;34m\u001b[0m\u001b[0m\n\u001b[1;32m     40\u001b[0m \u001b[0;34m\u001b[0m\u001b[0m\n",
      "\u001b[0;32m/usr/local/lib/python3.6/dist-packages/tensorflow/python/keras/engine/training.py\u001b[0m in \u001b[0;36m_method_wrapper\u001b[0;34m(self, *args, **kwargs)\u001b[0m\n\u001b[1;32m    106\u001b[0m   \u001b[0;32mdef\u001b[0m \u001b[0m_method_wrapper\u001b[0m\u001b[0;34m(\u001b[0m\u001b[0mself\u001b[0m\u001b[0;34m,\u001b[0m \u001b[0;34m*\u001b[0m\u001b[0margs\u001b[0m\u001b[0;34m,\u001b[0m \u001b[0;34m**\u001b[0m\u001b[0mkwargs\u001b[0m\u001b[0;34m)\u001b[0m\u001b[0;34m:\u001b[0m\u001b[0;34m\u001b[0m\u001b[0;34m\u001b[0m\u001b[0m\n\u001b[1;32m    107\u001b[0m     \u001b[0;32mif\u001b[0m \u001b[0;32mnot\u001b[0m \u001b[0mself\u001b[0m\u001b[0;34m.\u001b[0m\u001b[0m_in_multi_worker_mode\u001b[0m\u001b[0;34m(\u001b[0m\u001b[0;34m)\u001b[0m\u001b[0;34m:\u001b[0m  \u001b[0;31m# pylint: disable=protected-access\u001b[0m\u001b[0;34m\u001b[0m\u001b[0;34m\u001b[0m\u001b[0m\n\u001b[0;32m--> 108\u001b[0;31m       \u001b[0;32mreturn\u001b[0m \u001b[0mmethod\u001b[0m\u001b[0;34m(\u001b[0m\u001b[0mself\u001b[0m\u001b[0;34m,\u001b[0m \u001b[0;34m*\u001b[0m\u001b[0margs\u001b[0m\u001b[0;34m,\u001b[0m \u001b[0;34m**\u001b[0m\u001b[0mkwargs\u001b[0m\u001b[0;34m)\u001b[0m\u001b[0;34m\u001b[0m\u001b[0;34m\u001b[0m\u001b[0m\n\u001b[0m\u001b[1;32m    109\u001b[0m \u001b[0;34m\u001b[0m\u001b[0m\n\u001b[1;32m    110\u001b[0m     \u001b[0;31m# Running inside `run_distribute_coordinator` already.\u001b[0m\u001b[0;34m\u001b[0m\u001b[0;34m\u001b[0m\u001b[0;34m\u001b[0m\u001b[0m\n",
      "\u001b[0;32m/usr/local/lib/python3.6/dist-packages/tensorflow/python/keras/engine/training.py\u001b[0m in \u001b[0;36mfit\u001b[0;34m(self, x, y, batch_size, epochs, verbose, callbacks, validation_split, validation_data, shuffle, class_weight, sample_weight, initial_epoch, steps_per_epoch, validation_steps, validation_batch_size, validation_freq, max_queue_size, workers, use_multiprocessing)\u001b[0m\n\u001b[1;32m   1096\u001b[0m                 batch_size=batch_size):\n\u001b[1;32m   1097\u001b[0m               \u001b[0mcallbacks\u001b[0m\u001b[0;34m.\u001b[0m\u001b[0mon_train_batch_begin\u001b[0m\u001b[0;34m(\u001b[0m\u001b[0mstep\u001b[0m\u001b[0;34m)\u001b[0m\u001b[0;34m\u001b[0m\u001b[0;34m\u001b[0m\u001b[0m\n\u001b[0;32m-> 1098\u001b[0;31m               \u001b[0mtmp_logs\u001b[0m \u001b[0;34m=\u001b[0m \u001b[0mtrain_function\u001b[0m\u001b[0;34m(\u001b[0m\u001b[0miterator\u001b[0m\u001b[0;34m)\u001b[0m\u001b[0;34m\u001b[0m\u001b[0;34m\u001b[0m\u001b[0m\n\u001b[0m\u001b[1;32m   1099\u001b[0m               \u001b[0;32mif\u001b[0m \u001b[0mdata_handler\u001b[0m\u001b[0;34m.\u001b[0m\u001b[0mshould_sync\u001b[0m\u001b[0;34m:\u001b[0m\u001b[0;34m\u001b[0m\u001b[0;34m\u001b[0m\u001b[0m\n\u001b[1;32m   1100\u001b[0m                 \u001b[0mcontext\u001b[0m\u001b[0;34m.\u001b[0m\u001b[0masync_wait\u001b[0m\u001b[0;34m(\u001b[0m\u001b[0;34m)\u001b[0m\u001b[0;34m\u001b[0m\u001b[0;34m\u001b[0m\u001b[0m\n",
      "\u001b[0;32m/usr/local/lib/python3.6/dist-packages/tensorflow/python/eager/def_function.py\u001b[0m in \u001b[0;36m__call__\u001b[0;34m(self, *args, **kwds)\u001b[0m\n\u001b[1;32m    778\u001b[0m       \u001b[0;32melse\u001b[0m\u001b[0;34m:\u001b[0m\u001b[0;34m\u001b[0m\u001b[0;34m\u001b[0m\u001b[0m\n\u001b[1;32m    779\u001b[0m         \u001b[0mcompiler\u001b[0m \u001b[0;34m=\u001b[0m \u001b[0;34m\"nonXla\"\u001b[0m\u001b[0;34m\u001b[0m\u001b[0;34m\u001b[0m\u001b[0m\n\u001b[0;32m--> 780\u001b[0;31m         \u001b[0mresult\u001b[0m \u001b[0;34m=\u001b[0m \u001b[0mself\u001b[0m\u001b[0;34m.\u001b[0m\u001b[0m_call\u001b[0m\u001b[0;34m(\u001b[0m\u001b[0;34m*\u001b[0m\u001b[0margs\u001b[0m\u001b[0;34m,\u001b[0m \u001b[0;34m**\u001b[0m\u001b[0mkwds\u001b[0m\u001b[0;34m)\u001b[0m\u001b[0;34m\u001b[0m\u001b[0;34m\u001b[0m\u001b[0m\n\u001b[0m\u001b[1;32m    781\u001b[0m \u001b[0;34m\u001b[0m\u001b[0m\n\u001b[1;32m    782\u001b[0m       \u001b[0mnew_tracing_count\u001b[0m \u001b[0;34m=\u001b[0m \u001b[0mself\u001b[0m\u001b[0;34m.\u001b[0m\u001b[0m_get_tracing_count\u001b[0m\u001b[0;34m(\u001b[0m\u001b[0;34m)\u001b[0m\u001b[0;34m\u001b[0m\u001b[0;34m\u001b[0m\u001b[0m\n",
      "\u001b[0;32m/usr/local/lib/python3.6/dist-packages/tensorflow/python/eager/def_function.py\u001b[0m in \u001b[0;36m_call\u001b[0;34m(self, *args, **kwds)\u001b[0m\n\u001b[1;32m    805\u001b[0m       \u001b[0;31m# In this case we have created variables on the first call, so we run the\u001b[0m\u001b[0;34m\u001b[0m\u001b[0;34m\u001b[0m\u001b[0;34m\u001b[0m\u001b[0m\n\u001b[1;32m    806\u001b[0m       \u001b[0;31m# defunned version which is guaranteed to never create variables.\u001b[0m\u001b[0;34m\u001b[0m\u001b[0;34m\u001b[0m\u001b[0;34m\u001b[0m\u001b[0m\n\u001b[0;32m--> 807\u001b[0;31m       \u001b[0;32mreturn\u001b[0m \u001b[0mself\u001b[0m\u001b[0;34m.\u001b[0m\u001b[0m_stateless_fn\u001b[0m\u001b[0;34m(\u001b[0m\u001b[0;34m*\u001b[0m\u001b[0margs\u001b[0m\u001b[0;34m,\u001b[0m \u001b[0;34m**\u001b[0m\u001b[0mkwds\u001b[0m\u001b[0;34m)\u001b[0m  \u001b[0;31m# pylint: disable=not-callable\u001b[0m\u001b[0;34m\u001b[0m\u001b[0;34m\u001b[0m\u001b[0m\n\u001b[0m\u001b[1;32m    808\u001b[0m     \u001b[0;32melif\u001b[0m \u001b[0mself\u001b[0m\u001b[0;34m.\u001b[0m\u001b[0m_stateful_fn\u001b[0m \u001b[0;32mis\u001b[0m \u001b[0;32mnot\u001b[0m \u001b[0;32mNone\u001b[0m\u001b[0;34m:\u001b[0m\u001b[0;34m\u001b[0m\u001b[0;34m\u001b[0m\u001b[0m\n\u001b[1;32m    809\u001b[0m       \u001b[0;31m# Release the lock early so that multiple threads can perform the call\u001b[0m\u001b[0;34m\u001b[0m\u001b[0;34m\u001b[0m\u001b[0;34m\u001b[0m\u001b[0m\n",
      "\u001b[0;32m/usr/local/lib/python3.6/dist-packages/tensorflow/python/eager/function.py\u001b[0m in \u001b[0;36m__call__\u001b[0;34m(self, *args, **kwargs)\u001b[0m\n\u001b[1;32m   2827\u001b[0m     \u001b[0;32mwith\u001b[0m \u001b[0mself\u001b[0m\u001b[0;34m.\u001b[0m\u001b[0m_lock\u001b[0m\u001b[0;34m:\u001b[0m\u001b[0;34m\u001b[0m\u001b[0;34m\u001b[0m\u001b[0m\n\u001b[1;32m   2828\u001b[0m       \u001b[0mgraph_function\u001b[0m\u001b[0;34m,\u001b[0m \u001b[0margs\u001b[0m\u001b[0;34m,\u001b[0m \u001b[0mkwargs\u001b[0m \u001b[0;34m=\u001b[0m \u001b[0mself\u001b[0m\u001b[0;34m.\u001b[0m\u001b[0m_maybe_define_function\u001b[0m\u001b[0;34m(\u001b[0m\u001b[0margs\u001b[0m\u001b[0;34m,\u001b[0m \u001b[0mkwargs\u001b[0m\u001b[0;34m)\u001b[0m\u001b[0;34m\u001b[0m\u001b[0;34m\u001b[0m\u001b[0m\n\u001b[0;32m-> 2829\u001b[0;31m     \u001b[0;32mreturn\u001b[0m \u001b[0mgraph_function\u001b[0m\u001b[0;34m.\u001b[0m\u001b[0m_filtered_call\u001b[0m\u001b[0;34m(\u001b[0m\u001b[0margs\u001b[0m\u001b[0;34m,\u001b[0m \u001b[0mkwargs\u001b[0m\u001b[0;34m)\u001b[0m  \u001b[0;31m# pylint: disable=protected-access\u001b[0m\u001b[0;34m\u001b[0m\u001b[0;34m\u001b[0m\u001b[0m\n\u001b[0m\u001b[1;32m   2830\u001b[0m \u001b[0;34m\u001b[0m\u001b[0m\n\u001b[1;32m   2831\u001b[0m   \u001b[0;34m@\u001b[0m\u001b[0mproperty\u001b[0m\u001b[0;34m\u001b[0m\u001b[0;34m\u001b[0m\u001b[0m\n",
      "\u001b[0;32m/usr/local/lib/python3.6/dist-packages/tensorflow/python/eager/function.py\u001b[0m in \u001b[0;36m_filtered_call\u001b[0;34m(self, args, kwargs, cancellation_manager)\u001b[0m\n\u001b[1;32m   1846\u001b[0m                            resource_variable_ops.BaseResourceVariable))],\n\u001b[1;32m   1847\u001b[0m         \u001b[0mcaptured_inputs\u001b[0m\u001b[0;34m=\u001b[0m\u001b[0mself\u001b[0m\u001b[0;34m.\u001b[0m\u001b[0mcaptured_inputs\u001b[0m\u001b[0;34m,\u001b[0m\u001b[0;34m\u001b[0m\u001b[0;34m\u001b[0m\u001b[0m\n\u001b[0;32m-> 1848\u001b[0;31m         cancellation_manager=cancellation_manager)\n\u001b[0m\u001b[1;32m   1849\u001b[0m \u001b[0;34m\u001b[0m\u001b[0m\n\u001b[1;32m   1850\u001b[0m   \u001b[0;32mdef\u001b[0m \u001b[0m_call_flat\u001b[0m\u001b[0;34m(\u001b[0m\u001b[0mself\u001b[0m\u001b[0;34m,\u001b[0m \u001b[0margs\u001b[0m\u001b[0;34m,\u001b[0m \u001b[0mcaptured_inputs\u001b[0m\u001b[0;34m,\u001b[0m \u001b[0mcancellation_manager\u001b[0m\u001b[0;34m=\u001b[0m\u001b[0;32mNone\u001b[0m\u001b[0;34m)\u001b[0m\u001b[0;34m:\u001b[0m\u001b[0;34m\u001b[0m\u001b[0;34m\u001b[0m\u001b[0m\n",
      "\u001b[0;32m/usr/local/lib/python3.6/dist-packages/tensorflow/python/eager/function.py\u001b[0m in \u001b[0;36m_call_flat\u001b[0;34m(self, args, captured_inputs, cancellation_manager)\u001b[0m\n\u001b[1;32m   1922\u001b[0m       \u001b[0;31m# No tape is watching; skip to running the function.\u001b[0m\u001b[0;34m\u001b[0m\u001b[0;34m\u001b[0m\u001b[0;34m\u001b[0m\u001b[0m\n\u001b[1;32m   1923\u001b[0m       return self._build_call_outputs(self._inference_function.call(\n\u001b[0;32m-> 1924\u001b[0;31m           ctx, args, cancellation_manager=cancellation_manager))\n\u001b[0m\u001b[1;32m   1925\u001b[0m     forward_backward = self._select_forward_and_backward_functions(\n\u001b[1;32m   1926\u001b[0m         \u001b[0margs\u001b[0m\u001b[0;34m,\u001b[0m\u001b[0;34m\u001b[0m\u001b[0;34m\u001b[0m\u001b[0m\n",
      "\u001b[0;32m/usr/local/lib/python3.6/dist-packages/tensorflow/python/eager/function.py\u001b[0m in \u001b[0;36mcall\u001b[0;34m(self, ctx, args, cancellation_manager)\u001b[0m\n\u001b[1;32m    548\u001b[0m               \u001b[0minputs\u001b[0m\u001b[0;34m=\u001b[0m\u001b[0margs\u001b[0m\u001b[0;34m,\u001b[0m\u001b[0;34m\u001b[0m\u001b[0;34m\u001b[0m\u001b[0m\n\u001b[1;32m    549\u001b[0m               \u001b[0mattrs\u001b[0m\u001b[0;34m=\u001b[0m\u001b[0mattrs\u001b[0m\u001b[0;34m,\u001b[0m\u001b[0;34m\u001b[0m\u001b[0;34m\u001b[0m\u001b[0m\n\u001b[0;32m--> 550\u001b[0;31m               ctx=ctx)\n\u001b[0m\u001b[1;32m    551\u001b[0m         \u001b[0;32melse\u001b[0m\u001b[0;34m:\u001b[0m\u001b[0;34m\u001b[0m\u001b[0;34m\u001b[0m\u001b[0m\n\u001b[1;32m    552\u001b[0m           outputs = execute.execute_with_cancellation(\n",
      "\u001b[0;32m/usr/local/lib/python3.6/dist-packages/tensorflow/python/eager/execute.py\u001b[0m in \u001b[0;36mquick_execute\u001b[0;34m(op_name, num_outputs, inputs, attrs, ctx, name)\u001b[0m\n\u001b[1;32m     58\u001b[0m     \u001b[0mctx\u001b[0m\u001b[0;34m.\u001b[0m\u001b[0mensure_initialized\u001b[0m\u001b[0;34m(\u001b[0m\u001b[0;34m)\u001b[0m\u001b[0;34m\u001b[0m\u001b[0;34m\u001b[0m\u001b[0m\n\u001b[1;32m     59\u001b[0m     tensors = pywrap_tfe.TFE_Py_Execute(ctx._handle, device_name, op_name,\n\u001b[0;32m---> 60\u001b[0;31m                                         inputs, attrs, num_outputs)\n\u001b[0m\u001b[1;32m     61\u001b[0m   \u001b[0;32mexcept\u001b[0m \u001b[0mcore\u001b[0m\u001b[0;34m.\u001b[0m\u001b[0m_NotOkStatusException\u001b[0m \u001b[0;32mas\u001b[0m \u001b[0me\u001b[0m\u001b[0;34m:\u001b[0m\u001b[0;34m\u001b[0m\u001b[0;34m\u001b[0m\u001b[0m\n\u001b[1;32m     62\u001b[0m     \u001b[0;32mif\u001b[0m \u001b[0mname\u001b[0m \u001b[0;32mis\u001b[0m \u001b[0;32mnot\u001b[0m \u001b[0;32mNone\u001b[0m\u001b[0;34m:\u001b[0m\u001b[0;34m\u001b[0m\u001b[0;34m\u001b[0m\u001b[0m\n",
      "\u001b[0;31mKeyboardInterrupt\u001b[0m: "
     ]
    }
   ],
   "source": [
    "# creamos un imagen data generator configurando los hiperparametros de rescalado, zoom, flip y cortes aleratorios\n",
    "\n",
    "train_datagen = ImageDataGenerator(\n",
    "        rescale= 1./255,\n",
    "        shear_range= 0.2,\n",
    "        zoom_range=0.2,\n",
    "        horizontal_flip=True)\n",
    "\n",
    "test_datagen = ImageDataGenerator(rescale=1./255)\n",
    "\n",
    "train_generator = train_datagen.flow_from_directory(\n",
    "        train_path,\n",
    "        target_size=(224, 224),\n",
    "        batch_size=50,\n",
    "        class_mode='categorical')\n",
    "\n",
    "validation_generator = test_datagen.flow_from_directory(\n",
    "        validation_path,\n",
    "        target_size=(224, 224),\n",
    "        batch_size=10,\n",
    "        class_mode='categorical')\n",
    "\n",
    "train_filenames = train_generator.filenames\n",
    "steps_train = len(train_filenames)/train_generator.batch_size\n",
    "\n",
    "validation_filenames = validation_generator.filenames\n",
    "steps_valid = len(validation_filenames)/validation_generator.batch_size\n",
    "\n",
    "model_2.compile(loss='categorical_crossentropy',\n",
    "              optimizer=optimizers.RMSprop(lr=1e-4),\n",
    "              metrics=['acc'])\n",
    "#entrenamos el modelo\n",
    "fit_generator_2 = model_2.fit(\n",
    "        train_generator,\n",
    "        steps_per_epoch=steps_train,\n",
    "        epochs=30,\n",
    "        validation_data=validation_generator,\n",
    "        validation_steps=steps_valid)\n",
    "\n",
    "\n"
   ]
  },
  {
   "cell_type": "code",
   "execution_count": null,
   "metadata": {
    "colab": {
     "base_uri": "https://localhost:8080/",
     "height": 545
    },
    "executionInfo": {
     "elapsed": 1082017,
     "status": "ok",
     "timestamp": 1604924805803,
     "user": {
      "displayName": "Juan Finello",
      "photoUrl": "https://lh3.googleusercontent.com/a-/AOh14GhkEe8FcNn5ElS7591yV3nI_9MC8Yuo4NSdmGfowQ=s64",
      "userId": "01899113154645049238"
     },
     "user_tz": 180
    },
    "id": "zyOAn0uMaJls",
    "outputId": "63fea523-1d6f-49d1-9907-c622f0b4ca1d"
   },
   "outputs": [
    {
     "data": {
      "image/png": "[encoded data removed]",
      "text/plain": [
       "<Figure size 432x288 with 1 Axes>"
      ]
     },
     "metadata": {
      "needs_background": "light",
      "tags": []
     },
     "output_type": "display_data"
    },
    {
     "data": {
      "image/png": "[encoded data removed]",
      "text/plain": [
       "<Figure size 432x288 with 1 Axes>"
      ]
     },
     "metadata": {
      "needs_background": "light",
      "tags": []
     },
     "output_type": "display_data"
    }
   ],
   "source": [
    "\n",
    "import matplotlib.pyplot as plt\n",
    "\n",
    "acc = fit_generator_2.history['acc']\n",
    "val_acc = fit_generator_2.history['val_acc']\n",
    "loss = fit_generator_2.history['loss']\n",
    "val_loss = fit_generator_2.history['val_loss']\n",
    "\n",
    "epochs = range(len(acc))\n",
    "\n",
    "plt.plot(epochs, acc, 'bo', label='Training acc')\n",
    "plt.plot(epochs, val_acc, 'b', label='Validation acc', color = 'r')\n",
    "plt.title('Training and validation accuracy')\n",
    "plt.legend()\n",
    "\n",
    "plt.figure()\n",
    "\n",
    "plt.plot(epochs, loss, 'bo', label='Training loss')\n",
    "plt.plot(epochs, val_loss, 'b', label='Validation loss', color = 'r')\n",
    "plt.title('Training and validation loss')\n",
    "plt.legend()\n",
    "\n",
    "plt.show()"
   ]
  },
  {
   "cell_type": "markdown",
   "metadata": {
    "id": "G6Vr61q598Zc"
   },
   "source": [
    "# mas aumentos de imagenes"
   ]
  },
  {
   "cell_type": "markdown",
   "metadata": {
    "id": "Zzfs7FPcpLkZ"
   },
   "source": [
    "### 3.3 Más aumentos de imágenes \n",
    "\n",
    "Agregamos otros aumentos:\n",
    "\n",
    "* rango de rotación (rotation_range) rota las imagenes.\n",
    "* desplazar las imagenes aleatoriamente con (width_shift) en ancho\n",
    "* desplazar las imagenes aleatoriamente con (height_shift) en ancho\n",
    "* poner fill_mode en nearest para completar la imagen.\n"
   ]
  },
  {
   "cell_type": "code",
   "execution_count": null,
   "metadata": {
    "colab": {
     "base_uri": "https://localhost:8080/"
    },
    "executionInfo": {
     "elapsed": 2307635,
     "status": "ok",
     "timestamp": 1604926038468,
     "user": {
      "displayName": "Juan Finello",
      "photoUrl": "https://lh3.googleusercontent.com/a-/AOh14GhkEe8FcNn5ElS7591yV3nI_9MC8Yuo4NSdmGfowQ=s64",
      "userId": "01899113154645049238"
     },
     "user_tz": 180
    },
    "id": "AzjpoMpFB0ZC",
    "outputId": "59c55305-d2da-464c-f42c-4c0d0f313e72"
   },
   "outputs": [
    {
     "name": "stdout",
     "output_type": "stream",
     "text": [
      "Found 2640 images belonging to 3 classes.\n",
      "Found 296 images belonging to 3 classes.\n",
      "Epoch 1/30\n",
      "53/52 [==============================] - 41s 772ms/step - loss: 0.4293 - acc: 0.8311 - val_loss: 0.7751 - val_acc: 0.7365\n",
      "Epoch 2/30\n",
      "53/52 [==============================] - 41s 769ms/step - loss: 0.4009 - acc: 0.8443 - val_loss: 0.9575 - val_acc: 0.7095\n",
      "Epoch 3/30\n",
      "53/52 [==============================] - 41s 774ms/step - loss: 0.3693 - acc: 0.8583 - val_loss: 0.7374 - val_acc: 0.7466\n",
      "Epoch 4/30\n",
      "53/52 [==============================] - 41s 769ms/step - loss: 0.3652 - acc: 0.8625 - val_loss: 0.7406 - val_acc: 0.7804\n",
      "Epoch 5/30\n",
      "53/52 [==============================] - 40s 760ms/step - loss: 0.3584 - acc: 0.8595 - val_loss: 0.7095 - val_acc: 0.7601\n",
      "Epoch 6/30\n",
      "53/52 [==============================] - 40s 758ms/step - loss: 0.3393 - acc: 0.8701 - val_loss: 0.8292 - val_acc: 0.7466\n",
      "Epoch 7/30\n",
      "53/52 [==============================] - 40s 760ms/step - loss: 0.3412 - acc: 0.8686 - val_loss: 0.7586 - val_acc: 0.7601\n",
      "Epoch 8/30\n",
      "53/52 [==============================] - 40s 753ms/step - loss: 0.3168 - acc: 0.8765 - val_loss: 0.7756 - val_acc: 0.7534\n",
      "Epoch 9/30\n",
      "53/52 [==============================] - 40s 752ms/step - loss: 0.3254 - acc: 0.8716 - val_loss: 0.9113 - val_acc: 0.7095\n",
      "Epoch 10/30\n",
      "53/52 [==============================] - 40s 752ms/step - loss: 0.3243 - acc: 0.8788 - val_loss: 0.7835 - val_acc: 0.7196\n",
      "Epoch 11/30\n",
      "53/52 [==============================] - 40s 756ms/step - loss: 0.3084 - acc: 0.8758 - val_loss: 0.9175 - val_acc: 0.7365\n",
      "Epoch 12/30\n",
      "53/52 [==============================] - 40s 748ms/step - loss: 0.2884 - acc: 0.8860 - val_loss: 0.9589 - val_acc: 0.7703\n",
      "Epoch 13/30\n",
      "53/52 [==============================] - 39s 745ms/step - loss: 0.2815 - acc: 0.8867 - val_loss: 0.7815 - val_acc: 0.7568\n",
      "Epoch 14/30\n",
      "53/52 [==============================] - 39s 745ms/step - loss: 0.2826 - acc: 0.8902 - val_loss: 0.8253 - val_acc: 0.7399\n",
      "Epoch 15/30\n",
      "53/52 [==============================] - 40s 748ms/step - loss: 0.2904 - acc: 0.8822 - val_loss: 0.8158 - val_acc: 0.7703\n",
      "Epoch 16/30\n",
      "53/52 [==============================] - 40s 751ms/step - loss: 0.2747 - acc: 0.8879 - val_loss: 0.9210 - val_acc: 0.7128\n",
      "Epoch 17/30\n",
      "53/52 [==============================] - 40s 757ms/step - loss: 0.2650 - acc: 0.9019 - val_loss: 0.8703 - val_acc: 0.7128\n",
      "Epoch 18/30\n",
      "53/52 [==============================] - 41s 772ms/step - loss: 0.2651 - acc: 0.9030 - val_loss: 0.6706 - val_acc: 0.7770\n",
      "Epoch 19/30\n",
      "53/52 [==============================] - 41s 774ms/step - loss: 0.2522 - acc: 0.8947 - val_loss: 0.8674 - val_acc: 0.7466\n",
      "Epoch 20/30\n",
      "53/52 [==============================] - 40s 758ms/step - loss: 0.2726 - acc: 0.8909 - val_loss: 0.8157 - val_acc: 0.7635\n",
      "Epoch 21/30\n",
      "53/52 [==============================] - 40s 758ms/step - loss: 0.2379 - acc: 0.9102 - val_loss: 0.7040 - val_acc: 0.7635\n",
      "Epoch 22/30\n",
      "53/52 [==============================] - 40s 758ms/step - loss: 0.2391 - acc: 0.9057 - val_loss: 0.9586 - val_acc: 0.7264\n",
      "Epoch 23/30\n",
      "53/52 [==============================] - 40s 754ms/step - loss: 0.2392 - acc: 0.9061 - val_loss: 0.8129 - val_acc: 0.7669\n",
      "Epoch 24/30\n",
      "53/52 [==============================] - 40s 748ms/step - loss: 0.2388 - acc: 0.9083 - val_loss: 0.8480 - val_acc: 0.7568\n",
      "Epoch 25/30\n",
      "53/52 [==============================] - 40s 754ms/step - loss: 0.2364 - acc: 0.9061 - val_loss: 0.7002 - val_acc: 0.7939\n",
      "Epoch 26/30\n",
      "53/52 [==============================] - 41s 769ms/step - loss: 0.2327 - acc: 0.9106 - val_loss: 0.8079 - val_acc: 0.7703\n",
      "Epoch 27/30\n",
      "53/52 [==============================] - 41s 776ms/step - loss: 0.2543 - acc: 0.9008 - val_loss: 0.9205 - val_acc: 0.7500\n",
      "Epoch 28/30\n",
      "53/52 [==============================] - 41s 765ms/step - loss: 0.2327 - acc: 0.9163 - val_loss: 0.7452 - val_acc: 0.7770\n",
      "Epoch 29/30\n",
      "53/52 [==============================] - 40s 763ms/step - loss: 0.2165 - acc: 0.9178 - val_loss: 0.7390 - val_acc: 0.7635\n",
      "Epoch 30/30\n",
      "53/52 [==============================] - 40s 761ms/step - loss: 0.2220 - acc: 0.9102 - val_loss: 0.7508 - val_acc: 0.7601\n"
     ]
    }
   ],
   "source": [
    "#esta vez al imagen data generator se le va a agregar desplazamiento en ancho y alto , rotazion y completar la imagen\n",
    "train_datagen = ImageDataGenerator(rotation_range=30,\n",
    "        width_shift_range=0.2,\n",
    "        height_shift_range=0.2,\n",
    "        fill_mode= 'nearest',\n",
    "        rescale= 1./255,\n",
    "        shear_range= 0.2,\n",
    "        zoom_range=0.2,\n",
    "        horizontal_flip=True,\n",
    "        brightness_range=[0.2,1.2])\n",
    "\n",
    "test_datagen = ImageDataGenerator(testPath,\n",
    "\tclass_mode=\"categorical\",\n",
    "\ttarget_size=(224, 224), rescale=1./255)\n",
    "\n",
    "\n",
    "train_generator = train_datagen.flow_from_directory(\n",
    "        train_path,\n",
    "        target_size=(224, 224),\n",
    "        batch_size=50,\n",
    "        class_mode='categorical')\n",
    "\n",
    "validation_generator = test_datagen.flow_from_directory(\n",
    "        validation_path,\n",
    "        target_size=(224, 224),\n",
    "        batch_size=10,\n",
    "        class_mode='categorical')\n",
    "\n",
    "train_filenames = train_generator.filenames\n",
    "steps_train = len(train_filenames)/train_generator.batch_size\n",
    "\n",
    "validation_filenames = validation_generator.filenames\n",
    "steps_valid = len(validation_filenames)/validation_generator.batch_size\n",
    "\n",
    "model_2.compile(loss='categorical_crossentropy',\n",
    "              optimizer=optimizers.RMSprop(lr=1e-4),\n",
    "              metrics=['acc'])\n",
    "\n",
    "fit_generator_3 = model_2.fit(\n",
    "        train_generator,\n",
    "        steps_per_epoch=steps_train,\n",
    "        epochs=30,\n",
    "        validation_data=validation_generator,\n",
    "        validation_steps=steps_valid)"
   ]
  },
  {
   "cell_type": "code",
   "execution_count": null,
   "metadata": {
    "colab": {
     "base_uri": "https://localhost:8080/",
     "height": 545
    },
    "executionInfo": {
     "elapsed": 2304490,
     "status": "ok",
     "timestamp": 1604926039136,
     "user": {
      "displayName": "Juan Finello",
      "photoUrl": "https://lh3.googleusercontent.com/a-/AOh14GhkEe8FcNn5ElS7591yV3nI_9MC8Yuo4NSdmGfowQ=s64",
      "userId": "01899113154645049238"
     },
     "user_tz": 180
    },
    "id": "9WP8TRaP5FuR",
    "outputId": "10911bd5-b73e-4ff0-cf1c-a949edaa8e5f"
   },
   "outputs": [
    {
     "data": {
      "image/png": "[encoded data removed]",
      "text/plain": [
       "<Figure size 432x288 with 1 Axes>"
      ]
     },
     "metadata": {
      "needs_background": "light",
      "tags": []
     },
     "output_type": "display_data"
    },
    {
     "data": {
      "image/png": "[encoded data removed]",
      "text/plain": [
       "<Figure size 432x288 with 1 Axes>"
      ]
     },
     "metadata": {
      "needs_background": "light",
      "tags": []
     },
     "output_type": "display_data"
    }
   ],
   "source": [
    "acc = fit_generator_3.history['acc']\n",
    "val_acc = fit_generator_3.history['val_acc']\n",
    "loss = fit_generator_3.history['loss']\n",
    "val_loss = fit_generator_3.history['val_loss']\n",
    "\n",
    "epochs = range(len(acc))\n",
    "\n",
    "plt.plot(epochs, acc, 'bo', label='Training acc')\n",
    "plt.plot(epochs, val_acc, 'b', label='Validation acc', color = 'r')\n",
    "plt.title('Training and validation accuracy')\n",
    "plt.legend()\n",
    "\n",
    "plt.figure()\n",
    "\n",
    "plt.plot(epochs, loss, 'bo', label='Training loss')\n",
    "plt.plot(epochs, val_loss, 'b', label='Validation loss', color = 'r')\n",
    "plt.title('Training and validation loss')\n",
    "plt.legend()\n",
    "\n",
    "plt.show()"
   ]
  },
  {
   "cell_type": "markdown",
   "metadata": {
    "id": "EEQ-36kn-RiW"
   },
   "source": [
    "# regularizacion"
   ]
  },
  {
   "cell_type": "markdown",
   "metadata": {
    "id": "GM9KW0tW5yJo"
   },
   "source": [
    "### 3.3 Regularización: Añadir capa o capas de dropout para regularizar.\n"
   ]
  },
  {
   "cell_type": "code",
   "execution_count": null,
   "metadata": {
    "colab": {
     "base_uri": "https://localhost:8080/"
    },
    "executionInfo": {
     "elapsed": 22730,
     "status": "ok",
     "timestamp": 1605227197347,
     "user": {
      "displayName": "Hector Oviedo",
      "photoUrl": "",
      "userId": "15443532843068866582"
     },
     "user_tz": 180
    },
    "id": "dSJ64es2B0ZF",
    "outputId": "1664b86c-8ad1-4229-af04-f5a36d86a8de"
   },
   "outputs": [
    {
     "name": "stdout",
     "output_type": "stream",
     "text": [
      "Model: \"sequential_1\"\n",
      "_________________________________________________________________\n",
      "Layer (type)                 Output Shape              Param #   \n",
      "=================================================================\n",
      "conv2d_1 (Conv2D)            (None, 222, 222, 32)      896       \n",
      "_________________________________________________________________\n",
      "max_pooling2d_1 (MaxPooling2 (None, 111, 111, 32)      0         \n",
      "_________________________________________________________________\n",
      "conv2d_2 (Conv2D)            (None, 109, 109, 64)      18496     \n",
      "_________________________________________________________________\n",
      "max_pooling2d_2 (MaxPooling2 (None, 54, 54, 64)        0         \n",
      "_________________________________________________________________\n",
      "conv2d_3 (Conv2D)            (None, 52, 52, 128)       73856     \n",
      "_________________________________________________________________\n",
      "max_pooling2d_3 (MaxPooling2 (None, 26, 26, 128)       0         \n",
      "_________________________________________________________________\n",
      "conv2d_4 (Conv2D)            (None, 24, 24, 128)       147584    \n",
      "_________________________________________________________________\n",
      "max_pooling2d_4 (MaxPooling2 (None, 12, 12, 128)       0         \n",
      "_________________________________________________________________\n",
      "flatten_1 (Flatten)          (None, 18432)             0         \n",
      "_________________________________________________________________\n",
      "dense_2 (Dense)              (None, 512)               9437696   \n",
      "_________________________________________________________________\n",
      "dropout (Dropout)            (None, 512)               0         \n",
      "_________________________________________________________________\n",
      "dense_3 (Dense)              (None, 3)                 1539      \n",
      "=================================================================\n",
      "Total params: 9,680,067\n",
      "Trainable params: 9,680,067\n",
      "Non-trainable params: 0\n",
      "_________________________________________________________________\n"
     ]
    }
   ],
   "source": [
    "model_3 = models.Sequential()\n",
    "\n",
    "model_3.add(layers.Conv2D(32, (3, 3), activation='relu', input_shape=(224, 224, 3)))\n",
    "model_3.add(layers.MaxPooling2D((2, 2)))\n",
    "\n",
    "\n",
    "model_3.add(layers.Conv2D(64, (3, 3), activation='relu'))\n",
    "model_3.add(layers.MaxPooling2D((2, 2)))\n",
    "\n",
    "\n",
    "model_3.add(layers.Conv2D(128, (3, 3), activation='relu'))\n",
    "model_3.add(layers.MaxPooling2D((2, 2)))\n",
    "\n",
    "\n",
    "model_3.add(layers.Conv2D(128, (3, 3), activation='relu'))\n",
    "model_3.add(layers.MaxPooling2D((2, 2)))\n",
    "\n",
    "\n",
    "model_3.add(layers.Flatten())\n",
    "model_3.add(layers.Dense(512, activation='relu'))\n",
    "model_3.add(Dropout(0.5))\n",
    "model_3.add(layers.Dense(3, activation='softmax'))\n",
    "model_3.summary()"
   ]
  },
  {
   "cell_type": "code",
   "execution_count": null,
   "metadata": {
    "colab": {
     "base_uri": "https://localhost:8080/"
    },
    "executionInfo": {
     "elapsed": 1603617,
     "status": "ok",
     "timestamp": 1605229371846,
     "user": {
      "displayName": "Hector Oviedo",
      "photoUrl": "",
      "userId": "15443532843068866582"
     },
     "user_tz": 180
    },
    "id": "1qF6bTDL8n-M",
    "outputId": "388b85d8-aed7-4d46-f2d5-de4873f8ef63"
   },
   "outputs": [
    {
     "name": "stdout",
     "output_type": "stream",
     "text": [
      "Found 2640 images belonging to 3 classes.\n",
      "Found 296 images belonging to 3 classes.\n",
      "Epoch 1/40\n",
      "53/52 [==============================] - 40s 757ms/step - loss: 0.5579 - acc: 0.7761 - val_loss: 0.8977 - val_acc: 0.6182\n",
      "Epoch 2/40\n",
      "53/52 [==============================] - 39s 745ms/step - loss: 0.5236 - acc: 0.7970 - val_loss: 0.9376 - val_acc: 0.6993\n",
      "Epoch 3/40\n",
      "53/52 [==============================] - 39s 745ms/step - loss: 0.5198 - acc: 0.7860 - val_loss: 0.8900 - val_acc: 0.6926\n",
      "Epoch 4/40\n",
      "53/52 [==============================] - 39s 734ms/step - loss: 0.4897 - acc: 0.8061 - val_loss: 0.7727 - val_acc: 0.7196\n",
      "Epoch 5/40\n",
      "53/52 [==============================] - 39s 741ms/step - loss: 0.4924 - acc: 0.8034 - val_loss: 0.8431 - val_acc: 0.7230\n",
      "Epoch 6/40\n",
      "53/52 [==============================] - 40s 746ms/step - loss: 0.4498 - acc: 0.8250 - val_loss: 0.7141 - val_acc: 0.7399\n",
      "Epoch 7/40\n",
      "53/52 [==============================] - 40s 749ms/step - loss: 0.4503 - acc: 0.8303 - val_loss: 0.8955 - val_acc: 0.7061\n",
      "Epoch 8/40\n",
      "53/52 [==============================] - 39s 740ms/step - loss: 0.4417 - acc: 0.8216 - val_loss: 0.9039 - val_acc: 0.6993\n",
      "Epoch 9/40\n",
      "53/52 [==============================] - 39s 738ms/step - loss: 0.4336 - acc: 0.8292 - val_loss: 0.7110 - val_acc: 0.7568\n",
      "Epoch 10/40\n",
      "53/52 [==============================] - 39s 734ms/step - loss: 0.4197 - acc: 0.8299 - val_loss: 0.7685 - val_acc: 0.6892\n",
      "Epoch 11/40\n",
      "53/52 [==============================] - 39s 735ms/step - loss: 0.4300 - acc: 0.8280 - val_loss: 0.7537 - val_acc: 0.7365\n",
      "Epoch 12/40\n",
      "53/52 [==============================] - 39s 740ms/step - loss: 0.4035 - acc: 0.8386 - val_loss: 0.7365 - val_acc: 0.7230\n",
      "Epoch 13/40\n",
      "53/52 [==============================] - 40s 745ms/step - loss: 0.4146 - acc: 0.8356 - val_loss: 0.7194 - val_acc: 0.7669\n",
      "Epoch 14/40\n",
      "53/52 [==============================] - 39s 742ms/step - loss: 0.3808 - acc: 0.8496 - val_loss: 0.7634 - val_acc: 0.7297\n",
      "Epoch 15/40\n",
      "53/52 [==============================] - 39s 741ms/step - loss: 0.3743 - acc: 0.8462 - val_loss: 0.8658 - val_acc: 0.7264\n",
      "Epoch 16/40\n",
      "53/52 [==============================] - 39s 739ms/step - loss: 0.3599 - acc: 0.8583 - val_loss: 0.6371 - val_acc: 0.7736\n",
      "Epoch 17/40\n",
      "53/52 [==============================] - 39s 735ms/step - loss: 0.3656 - acc: 0.8561 - val_loss: 0.8493 - val_acc: 0.7500\n",
      "Epoch 18/40\n",
      "53/52 [==============================] - 39s 733ms/step - loss: 0.3494 - acc: 0.8587 - val_loss: 0.7048 - val_acc: 0.7703\n",
      "Epoch 19/40\n",
      "53/52 [==============================] - 39s 735ms/step - loss: 0.3659 - acc: 0.8602 - val_loss: 0.7098 - val_acc: 0.7601\n",
      "Epoch 20/40\n",
      "53/52 [==============================] - 39s 739ms/step - loss: 0.3405 - acc: 0.8553 - val_loss: 1.0311 - val_acc: 0.7027\n",
      "Epoch 21/40\n",
      "53/52 [==============================] - 39s 735ms/step - loss: 0.3425 - acc: 0.8648 - val_loss: 0.6812 - val_acc: 0.7838\n",
      "Epoch 22/40\n",
      "53/52 [==============================] - 39s 742ms/step - loss: 0.3302 - acc: 0.8655 - val_loss: 0.6167 - val_acc: 0.7703\n",
      "Epoch 23/40\n",
      "53/52 [==============================] - 39s 741ms/step - loss: 0.3188 - acc: 0.8742 - val_loss: 0.7780 - val_acc: 0.7095\n",
      "Epoch 24/40\n",
      "53/52 [==============================] - 39s 741ms/step - loss: 0.3202 - acc: 0.8712 - val_loss: 0.7370 - val_acc: 0.7500\n",
      "Epoch 25/40\n",
      "53/52 [==============================] - 39s 740ms/step - loss: 0.3161 - acc: 0.8712 - val_loss: 0.8833 - val_acc: 0.7568\n",
      "Epoch 26/40\n",
      "53/52 [==============================] - 39s 738ms/step - loss: 0.3182 - acc: 0.8746 - val_loss: 0.9071 - val_acc: 0.7331\n",
      "Epoch 27/40\n",
      "53/52 [==============================] - 39s 735ms/step - loss: 0.3038 - acc: 0.8739 - val_loss: 0.9429 - val_acc: 0.7432\n",
      "Epoch 28/40\n",
      "53/52 [==============================] - 39s 739ms/step - loss: 0.3068 - acc: 0.8799 - val_loss: 0.6831 - val_acc: 0.7736\n",
      "Epoch 29/40\n",
      "53/52 [==============================] - 39s 735ms/step - loss: 0.3094 - acc: 0.8799 - val_loss: 0.7124 - val_acc: 0.7703\n",
      "Epoch 30/40\n",
      "53/52 [==============================] - 39s 739ms/step - loss: 0.2871 - acc: 0.8902 - val_loss: 0.7201 - val_acc: 0.7736\n",
      "Epoch 31/40\n",
      "53/52 [==============================] - 39s 739ms/step - loss: 0.2997 - acc: 0.8803 - val_loss: 0.8188 - val_acc: 0.7635\n",
      "Epoch 32/40\n",
      "53/52 [==============================] - 39s 732ms/step - loss: 0.2621 - acc: 0.8985 - val_loss: 0.8676 - val_acc: 0.7804\n",
      "Epoch 33/40\n",
      "53/52 [==============================] - 39s 742ms/step - loss: 0.2866 - acc: 0.8818 - val_loss: 0.6364 - val_acc: 0.7601\n",
      "Epoch 34/40\n",
      "53/52 [==============================] - 39s 740ms/step - loss: 0.2867 - acc: 0.8902 - val_loss: 0.7644 - val_acc: 0.7669\n",
      "Epoch 35/40\n",
      "53/52 [==============================] - 39s 740ms/step - loss: 0.2815 - acc: 0.8875 - val_loss: 0.7931 - val_acc: 0.7399\n",
      "Epoch 36/40\n",
      "53/52 [==============================] - 40s 745ms/step - loss: 0.2736 - acc: 0.8883 - val_loss: 0.9349 - val_acc: 0.7568\n",
      "Epoch 37/40\n",
      "53/52 [==============================] - 39s 744ms/step - loss: 0.2664 - acc: 0.8947 - val_loss: 0.6689 - val_acc: 0.7770\n",
      "Epoch 38/40\n",
      "53/52 [==============================] - 40s 753ms/step - loss: 0.2479 - acc: 0.9034 - val_loss: 0.9514 - val_acc: 0.7264\n",
      "Epoch 39/40\n",
      "53/52 [==============================] - 40s 753ms/step - loss: 0.2551 - acc: 0.8958 - val_loss: 0.8374 - val_acc: 0.7736\n",
      "Epoch 40/40\n",
      "53/52 [==============================] - 40s 758ms/step - loss: 0.2648 - acc: 0.8932 - val_loss: 0.6146 - val_acc: 0.7804\n"
     ]
    }
   ],
   "source": [
    "train_datagen = ImageDataGenerator(rotation_range=30,\n",
    "        width_shift_range=0.2,\n",
    "        height_shift_range=0.2,\n",
    "        fill_mode= 'nearest',\n",
    "        rescale= 1./255,\n",
    "        shear_range= 0.2,\n",
    "        zoom_range=0.2,\n",
    "        horizontal_flip=True,\n",
    "        brightness_range=[0.2,1.2])\n",
    "\n",
    "test_datagen = ImageDataGenerator(rescale=1./255)\n",
    "\n",
    "train_generator = train_datagen.flow_from_directory(\n",
    "        train_path,\n",
    "        target_size=(224, 224),\n",
    "        batch_size=50,\n",
    "        class_mode='categorical')\n",
    "\n",
    "validation_generator = test_datagen.flow_from_directory(\n",
    "        validation_path,\n",
    "        target_size=(224, 224),\n",
    "        batch_size=10,\n",
    "        class_mode='categorical')\n",
    "\n",
    "train_filenames = train_generator.filenames\n",
    "steps_train = len(train_filenames)/train_generator.batch_size\n",
    "\n",
    "validation_filenames = validation_generator.filenames\n",
    "steps_valid = len(validation_filenames)/validation_generator.batch_size\n",
    "\n",
    "model_3.compile(loss='categorical_crossentropy',\n",
    "              optimizer=optimizers.RMSprop(lr=1e-4),\n",
    "              metrics=['acc'])\n",
    "\n",
    "fit_generator_4 = model_3.fit(\n",
    "        train_generator,\n",
    "        steps_per_epoch=steps_train,\n",
    "        epochs=40,\n",
    "        validation_data=validation_generator,\n",
    "        validation_steps=steps_valid)"
   ]
  },
  {
   "cell_type": "code",
   "execution_count": null,
   "metadata": {
    "colab": {
     "base_uri": "https://localhost:8080/"
    },
    "executionInfo": {
     "elapsed": 1603535,
     "status": "ok",
     "timestamp": 1605229372640,
     "user": {
      "displayName": "Hector Oviedo",
      "photoUrl": "",
      "userId": "15443532843068866582"
     },
     "user_tz": 180
    },
    "id": "NI_NEjYl8ucX",
    "outputId": "eae804c5-a3c2-4292-9c8d-b35a59ea3d54"
   },
   "outputs": [
    {
     "data": {
      "image/png": "[encoded data removed]",
      "text/plain": [
       "<Figure size 432x288 with 1 Axes>"
      ]
     },
     "metadata": {
      "needs_background": "light",
      "tags": []
     },
     "output_type": "display_data"
    },
    {
     "data": {
      "image/png": "[encoded data removed]",
      "text/plain": [
       "<Figure size 432x288 with 1 Axes>"
      ]
     },
     "metadata": {
      "needs_background": "light",
      "tags": []
     },
     "output_type": "display_data"
    }
   ],
   "source": [
    "acc = fit_generator_4.history['acc']\n",
    "val_acc = fit_generator_4.history['val_acc']\n",
    "loss = fit_generator_4.history['loss']\n",
    "val_loss = fit_generator_4.history['val_loss']\n",
    "\n",
    "epochs = range(len(acc))\n",
    "\n",
    "plt.plot(epochs, acc, 'bo', label='Training acc')\n",
    "plt.plot(epochs, val_acc, 'b', label='Validation acc', color = 'r')\n",
    "plt.title('Training and validation accuracy')\n",
    "plt.legend()\n",
    "\n",
    "plt.figure()\n",
    "\n",
    "plt.plot(epochs, loss, 'bo', label='Training loss')\n",
    "plt.plot(epochs, val_loss, 'b', label='Validation loss', color = 'r')\n",
    "plt.title('Training and validation loss')\n",
    "plt.legend()\n",
    "\n",
    "plt.show()"
   ]
  },
  {
   "cell_type": "code",
   "execution_count": null,
   "metadata": {
    "id": "YPo7Tgdk_FSN"
   },
   "outputs": [],
   "source": [
    "# el proximo codigo da como resultado las imagenes de abajo\n",
    "#model_3 = models.Sequential()\n",
    "\n",
    "#model_3.add(layers.Conv2D(32, (3, 3), activation='relu', input_shape=(224, 224, 3)))\n",
    "#model_3.add(layers.MaxPooling2D((2, 2)))\n",
    "#model_3.add(Dropout(0.5))\n",
    "\n",
    "#model_3.add(layers.Conv2D(64, (3, 3), activation='relu'))\n",
    "#model_3.add(layers.MaxPooling2D((2, 2)))\n",
    "#model_3.add(Dropout(0.5))\n",
    "\n",
    "#model_3.add(layers.Conv2D(128, (3, 3), activation='relu'))\n",
    "#model_3.add(layers.MaxPooling2D((2, 2)))\n",
    "#model_3.add(Dropout(0.5))\n",
    "\n",
    "#model_3.add(layers.Conv2D(128, (3, 3), activation='relu'))\n",
    "#model_3.add(layers.MaxPooling2D((2, 2)))\n",
    "#model_3.add(Dropout(0.5))\n",
    "\n",
    "#model_3.add(layers.Flatten())\n",
    "#model_3.add(layers.Dense(512, activation='relu'))\n",
    "#model_3.add(Dropout(0.5))\n",
    "#model_3.add(layers.Dense(3, activation='softmax'))\n",
    "#model_3.summary()"
   ]
  },
  {
   "cell_type": "markdown",
   "metadata": {
    "id": "Bo8MSiFA-1Zs"
   },
   "source": [
    "![descarga (3).png](data:image/png;base64,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)![descarga (4).png](data:image/png;base64,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)"
   ]
  },
  {
   "cell_type": "markdown",
   "metadata": {
    "id": "1nrWwkEPNiJf"
   },
   "source": [
    "# 4. Utilizar una Red Preentrenada y hacer Fine-Tuning!\n",
    "\n",
    "Utilizamos la red VGG16, recortando las últimas capas de la red para hacer fine tuning. \n",
    "\n",
    "https://www.pyimagesearch.com/2019/06/03/fine-tuning-with-keras-and-deep-learning/"
   ]
  },
  {
   "cell_type": "code",
   "execution_count": null,
   "metadata": {
    "id": "MjDvRBPOYGqu"
   },
   "outputs": [],
   "source": [
    "from __future__ import absolute_import\n",
    "from __future__ import division\n",
    "from __future__ import print_function\n",
    "\n",
    "import collections\n",
    "import math\n",
    "import os\n",
    "import random\n",
    "from six.moves import urllib\n",
    "import io\n",
    "import shutil\n",
    "import keras\n",
    "from IPython.display import clear_output, Image, display, HTML\n",
    "\n",
    "\n",
    "import tensorflow as tf\n",
    "\n",
    "import numpy as np\n",
    "import matplotlib.pyplot as plt\n",
    "import seaborn as sns\n",
    "import sklearn.metrics as sk_metrics\n",
    "import time\n",
    "from tensorflow.python.keras.preprocessing.image import ImageDataGenerator\n",
    "\n",
    "from keras.preprocessing import image\n",
    "from keras import regularizers\n",
    "from keras.models import Model\n",
    "from keras.layers import Dense, GlobalAveragePooling2D, BatchNormalization, Dropout, Flatten\n",
    "from keras import backend as K\n",
    "\n",
    "from tensorflow.keras.applications import VGG16"
   ]
  },
  {
   "cell_type": "code",
   "execution_count": null,
   "metadata": {
    "id": "uPM8OTu8uGxp"
   },
   "outputs": [],
   "source": [
    "#### Recuerden que aquí, cuando ya estén medio estables con los resultados, pueden empezar a jugar con los optimizadores y también realizar el aumento de imágenes para el modelo con vgg o resnet :)\n",
    "#### SUERTE Y CUALQUIER COSA  ME PREGUNTAN!"
   ]
  },
  {
   "cell_type": "code",
   "execution_count": null,
   "metadata": {
    "colab": {
     "base_uri": "https://localhost:8080/"
    },
    "executionInfo": {
     "elapsed": 3685,
     "status": "ok",
     "timestamp": 1604943582881,
     "user": {
      "displayName": "Juan Finello",
      "photoUrl": "https://lh3.googleusercontent.com/a-/AOh14GhkEe8FcNn5ElS7591yV3nI_9MC8Yuo4NSdmGfowQ=s64",
      "userId": "01899113154645049238"
     },
     "user_tz": 180
    },
    "id": "4sqYcVUpB0ZN",
    "outputId": "e5673c98-f78f-441b-c49b-a1ec10796157"
   },
   "outputs": [
    {
     "name": "stdout",
     "output_type": "stream",
     "text": [
      "Downloading data from https://storage.googleapis.com/tensorflow/keras-applications/vgg16/vgg16_weights_tf_dim_ordering_tf_kernels_notop.h5\n",
      "58892288/58889256 [==============================] - 2s 0us/step\n"
     ]
    }
   ],
   "source": [
    "# cargamos las red neuronal \"VGG16\"\n",
    "\n",
    "from tensorflow.keras.layers import Input\n",
    "#creamos el modelo base\n",
    "base = VGG16(weights=\"imagenet\", include_top=False, input_tensor=Input(shape=(224, 224, 3)))\n",
    "\n",
    "\n",
    "#contruimos la cabeza del modelo que luego se unira en la parte final del modelo base\n",
    "head = base.output\n",
    "head = Flatten(name=\"flatten\")(head)\n",
    "head = Dense(512, activation=\"relu\")(head)\n",
    "head = Dropout(0.5)(headModel)\n",
    "head = Dense(3, activation=\"softmax\")(head)\n",
    "\n",
    "\n",
    "#unimos el modelo base y el modelo head\n",
    "model = Model(inputs=base.input, outputs=head)\n",
    "\n",
    "#congelamos todas las capas que pertenecen la modelo base\n",
    "\n",
    "for layer in base.layers:\n",
    "\tlayer.trainable = False"
   ]
  },
  {
   "cell_type": "code",
   "execution_count": null,
   "metadata": {
    "colab": {
     "base_uri": "https://localhost:8080/"
    },
    "executionInfo": {
     "elapsed": 1002180,
     "status": "ok",
     "timestamp": 1604944618676,
     "user": {
      "displayName": "Juan Finello",
      "photoUrl": "https://lh3.googleusercontent.com/a-/AOh14GhkEe8FcNn5ElS7591yV3nI_9MC8Yuo4NSdmGfowQ=s64",
      "userId": "01899113154645049238"
     },
     "user_tz": 180
    },
    "id": "Ndk_7CsfPoEb",
    "outputId": "edfd6e91-97cb-4408-c6de-1e316a98f944"
   },
   "outputs": [
    {
     "name": "stdout",
     "output_type": "stream",
     "text": [
      "[INFO] compiling model...\n",
      "[INFO] training head...\n",
      "Epoch 1/30\n",
      "53/52 [==============================] - 33s 627ms/step - loss: 0.7223 - accuracy: 0.6928 - val_loss: 0.5296 - val_accuracy: 0.7770\n",
      "Epoch 2/30\n",
      "53/52 [==============================] - 33s 615ms/step - loss: 0.5061 - accuracy: 0.7841 - val_loss: 0.4403 - val_accuracy: 0.8243\n",
      "Epoch 3/30\n",
      "53/52 [==============================] - 33s 616ms/step - loss: 0.4430 - accuracy: 0.8125 - val_loss: 0.4143 - val_accuracy: 0.8311\n",
      "Epoch 4/30\n",
      "53/52 [==============================] - 33s 613ms/step - loss: 0.4072 - accuracy: 0.8208 - val_loss: 0.3967 - val_accuracy: 0.8378\n",
      "Epoch 5/30\n",
      "53/52 [==============================] - 33s 616ms/step - loss: 0.3937 - accuracy: 0.8239 - val_loss: 0.3889 - val_accuracy: 0.8277\n",
      "Epoch 6/30\n",
      "53/52 [==============================] - 33s 617ms/step - loss: 0.3680 - accuracy: 0.8455 - val_loss: 0.3701 - val_accuracy: 0.8412\n",
      "Epoch 7/30\n",
      "53/52 [==============================] - 33s 614ms/step - loss: 0.3531 - accuracy: 0.8489 - val_loss: 0.3574 - val_accuracy: 0.8615\n",
      "Epoch 8/30\n",
      "53/52 [==============================] - 33s 614ms/step - loss: 0.3545 - accuracy: 0.8500 - val_loss: 0.3481 - val_accuracy: 0.8547\n",
      "Epoch 9/30\n",
      "53/52 [==============================] - 33s 614ms/step - loss: 0.3337 - accuracy: 0.8527 - val_loss: 0.3411 - val_accuracy: 0.8615\n",
      "Epoch 10/30\n",
      "53/52 [==============================] - 33s 613ms/step - loss: 0.3225 - accuracy: 0.8678 - val_loss: 0.3602 - val_accuracy: 0.8243\n",
      "Epoch 11/30\n",
      "53/52 [==============================] - 33s 614ms/step - loss: 0.3226 - accuracy: 0.8655 - val_loss: 0.3363 - val_accuracy: 0.8547\n",
      "Epoch 12/30\n",
      "53/52 [==============================] - 33s 615ms/step - loss: 0.3058 - accuracy: 0.8750 - val_loss: 0.3277 - val_accuracy: 0.8649\n",
      "Epoch 13/30\n",
      "53/52 [==============================] - 32s 610ms/step - loss: 0.3044 - accuracy: 0.8731 - val_loss: 0.3178 - val_accuracy: 0.8682\n",
      "Epoch 14/30\n",
      "53/52 [==============================] - 32s 612ms/step - loss: 0.2899 - accuracy: 0.8777 - val_loss: 0.3188 - val_accuracy: 0.8649\n",
      "Epoch 15/30\n",
      "53/52 [==============================] - 33s 619ms/step - loss: 0.2941 - accuracy: 0.8754 - val_loss: 0.3133 - val_accuracy: 0.8682\n",
      "Epoch 16/30\n",
      "53/52 [==============================] - 32s 611ms/step - loss: 0.2867 - accuracy: 0.8795 - val_loss: 0.3297 - val_accuracy: 0.8480\n",
      "Epoch 17/30\n",
      "53/52 [==============================] - 33s 619ms/step - loss: 0.2724 - accuracy: 0.8920 - val_loss: 0.3033 - val_accuracy: 0.8682\n",
      "Epoch 18/30\n",
      "53/52 [==============================] - 33s 615ms/step - loss: 0.2773 - accuracy: 0.8867 - val_loss: 0.3050 - val_accuracy: 0.8649\n",
      "Epoch 19/30\n",
      "53/52 [==============================] - 32s 612ms/step - loss: 0.2706 - accuracy: 0.8883 - val_loss: 0.3043 - val_accuracy: 0.8649\n",
      "Epoch 20/30\n",
      "53/52 [==============================] - 33s 614ms/step - loss: 0.2767 - accuracy: 0.8777 - val_loss: 0.3064 - val_accuracy: 0.8716\n",
      "Epoch 21/30\n",
      "53/52 [==============================] - 33s 616ms/step - loss: 0.2644 - accuracy: 0.8848 - val_loss: 0.2991 - val_accuracy: 0.8649\n",
      "Epoch 22/30\n",
      "53/52 [==============================] - 33s 616ms/step - loss: 0.2664 - accuracy: 0.8905 - val_loss: 0.2971 - val_accuracy: 0.8649\n",
      "Epoch 23/30\n",
      "53/52 [==============================] - 32s 613ms/step - loss: 0.2591 - accuracy: 0.8996 - val_loss: 0.2961 - val_accuracy: 0.8682\n",
      "Epoch 24/30\n",
      "53/52 [==============================] - 33s 617ms/step - loss: 0.2555 - accuracy: 0.8958 - val_loss: 0.3002 - val_accuracy: 0.8750\n",
      "Epoch 25/30\n",
      "53/52 [==============================] - 33s 617ms/step - loss: 0.2488 - accuracy: 0.9019 - val_loss: 0.3027 - val_accuracy: 0.8649\n",
      "Epoch 26/30\n",
      "53/52 [==============================] - 33s 616ms/step - loss: 0.2424 - accuracy: 0.9038 - val_loss: 0.2955 - val_accuracy: 0.8649\n",
      "Epoch 27/30\n",
      "53/52 [==============================] - 33s 621ms/step - loss: 0.2362 - accuracy: 0.9053 - val_loss: 0.2861 - val_accuracy: 0.8750\n",
      "Epoch 28/30\n",
      "53/52 [==============================] - 33s 618ms/step - loss: 0.2373 - accuracy: 0.9023 - val_loss: 0.2959 - val_accuracy: 0.8716\n",
      "Epoch 29/30\n",
      "53/52 [==============================] - 33s 620ms/step - loss: 0.2311 - accuracy: 0.9061 - val_loss: 0.2942 - val_accuracy: 0.8682\n",
      "Epoch 30/30\n",
      "53/52 [==============================] - 33s 619ms/step - loss: 0.2384 - accuracy: 0.9030 - val_loss: 0.3182 - val_accuracy: 0.8480\n"
     ]
    }
   ],
   "source": [
    "\n",
    "from tensorflow.keras.optimizers import SGD\n",
    "\n",
    "#compilamos el modelo\n",
    "print(\"[INFO] compiling model...\")\n",
    "opt = SGD(lr=1e-4, momentum=0.9)\n",
    "model.compile(loss=\"categorical_crossentropy\", optimizer=opt,\n",
    "\tmetrics=[\"accuracy\"])\n",
    "\n",
    "#entrenamos la cabeza de la neurona ya que las demas estan congeladas\n",
    "print(\"[INFO] training head...\")\n",
    "modelo = model.fit(\n",
    "\ttrain_generator,\n",
    "\tsteps_per_epoch=steps_train,\n",
    "\tvalidation_data=validation_generator,\n",
    "\tvalidation_steps=steps_valid,\n",
    "\tepochs=30)\n",
    "\n",
    "\n"
   ]
  },
  {
   "cell_type": "code",
   "execution_count": null,
   "metadata": {
    "colab": {
     "base_uri": "https://localhost:8080/",
     "height": 545
    },
    "executionInfo": {
     "elapsed": 1383,
     "status": "ok",
     "timestamp": 1604944941506,
     "user": {
      "displayName": "Juan Finello",
      "photoUrl": "https://lh3.googleusercontent.com/a-/AOh14GhkEe8FcNn5ElS7591yV3nI_9MC8Yuo4NSdmGfowQ=s64",
      "userId": "01899113154645049238"
     },
     "user_tz": 180
    },
    "id": "50ktlMqyFBlS",
    "outputId": "f98ff076-c433-48ad-d066-7e1be41b1d6c"
   },
   "outputs": [
    {
     "data": {
      "image/png": "[encoded data removed]",
      "text/plain": [
       "<Figure size 432x288 with 1 Axes>"
      ]
     },
     "metadata": {
      "needs_background": "light",
      "tags": []
     },
     "output_type": "display_data"
    },
    {
     "data": {
      "image/png": "[encoded data removed]",
      "text/plain": [
       "<Figure size 432x288 with 1 Axes>"
      ]
     },
     "metadata": {
      "needs_background": "light",
      "tags": []
     },
     "output_type": "display_data"
    }
   ],
   "source": [
    "acc = modelo.history['accuracy']\n",
    "val_acc = modelo.history['val_accuracy']\n",
    "loss = modelo.history['loss']\n",
    "val_loss = modelo.history['val_loss']\n",
    "\n",
    "epochs = range(len(acc))\n",
    "\n",
    "plt.plot(epochs, acc, 'bo', label='Training acc')\n",
    "plt.plot(epochs, val_acc, 'b', label='Validation acc', color = 'r')\n",
    "plt.title('Training and validation accuracy')\n",
    "plt.legend()\n",
    "\n",
    "plt.figure()\n",
    "\n",
    "plt.plot(epochs, loss, 'bo', label='Training loss')\n",
    "plt.plot(epochs, val_loss, 'b', label='Validation loss', color = 'r')\n",
    "plt.title('Training and validation loss')\n",
    "plt.legend()\n",
    "\n",
    "plt.show()"
   ]
  }
 ],
 "metadata": {
  "accelerator": "GPU",
  "colab": {
   "collapsed_sections": [],
   "name": "Copia de TP_5-Clasificación_de_imagenes.ipynb",
   "provenance": [
    {
     "file_id": "18ndAnJFGcPXyl-vNdpSaq867JptQkaR4",
     "timestamp": 1604345567431
    }
   ]
  },
  "kernelspec": {
   "display_name": "Python 3",
   "language": "python",
   "name": "python3"
  },
  "language_info": {
   "codemirror_mode": {
    "name": "ipython",
    "version": 3
   },
   "file_extension": ".py",
   "mimetype": "text/x-python",
   "name": "python",
   "nbconvert_exporter": "python",
   "pygments_lexer": "ipython3",
   "version": "3.7.6"
  },
  "widgets": {
   "application/vnd.jupyter.widget-state+json": {
    "state": {},
    "version_major": 2,
    "version_minor": 0
   }
  }
 },
 "nbformat": 4,
 "nbformat_minor": 1
}
